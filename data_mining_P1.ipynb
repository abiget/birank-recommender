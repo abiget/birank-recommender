{
 "cells": [
  {
   "cell_type": "code",
   "execution_count": 3,
   "metadata": {
    "id": "d4YP847SR-tl"
   },
   "outputs": [],
   "source": [
    "# !pip install -U memory_profiler\n",
    "# !pip install ipywidgets\n",
    "# !pip install scipy\n",
    "# !pip install scikit-learn\n",
    "#numpy, pandas, matplotlib"
   ]
  },
  {
   "cell_type": "code",
   "execution_count": null,
   "metadata": {
    "id": "gXYMFmU1RjRO"
   },
   "outputs": [],
   "source": [
    "import os\n",
    "import numpy as np\n",
    "import pandas as pd\n",
    "from zipfile import ZipFile\n",
    "import matplotlib.pyplot as plt\n",
    "import time\n",
    "from urllib.request import urlretrieve\n",
    "from collections import defaultdict\n",
    "import ipywidgets as widgets\n",
    "from IPython.display import display\n",
    "from scipy.sparse import csr_matrix\n",
    "from sklearn.model_selection import train_test_split\n",
    "# from memory_profiler import profile\n",
    "# %load_ext memory_profiler"
   ]
  },
  {
   "cell_type": "markdown",
   "metadata": {
    "id": "M3GrkwJCdP5Z"
   },
   "source": [
    "**Download and Extract Data**"
   ]
  },
  {
   "cell_type": "code",
   "execution_count": 2,
   "metadata": {
    "colab": {
     "base_uri": "https://localhost:8080/"
    },
    "executionInfo": {
     "elapsed": 2503,
     "status": "ok",
     "timestamp": 1734014428456,
     "user": {
      "displayName": "Anteneh Getachew Yitayal",
      "userId": "12980641551393977386"
     },
     "user_tz": -60
    },
    "id": "Vm5tpDz9SZft",
    "outputId": "58c011fc-8912-4167-84cc-5e1da16caba7"
   },
   "outputs": [],
   "source": [
    "# from google.colab import drive\n",
    "# drive.mount('/content/drive')"
   ]
  },
  {
   "cell_type": "code",
   "execution_count": 3,
   "metadata": {
    "colab": {
     "base_uri": "https://localhost:8080/"
    },
    "executionInfo": {
     "elapsed": 37,
     "status": "ok",
     "timestamp": 1734014428457,
     "user": {
      "displayName": "Anteneh Getachew Yitayal",
      "userId": "12980641551393977386"
     },
     "user_tz": -60
    },
    "id": "mVZ3FRpsTmIN",
    "outputId": "d01df6c2-deb5-4782-b96a-cdfbb4338d74"
   },
   "outputs": [],
   "source": [
    "#cd into the project working directory\n",
    "# %cd \"./drive/MyDrive/Data_Mining/Project\""
   ]
  },
  {
   "cell_type": "code",
   "execution_count": 5,
   "metadata": {
    "colab": {
     "base_uri": "https://localhost:8080/"
    },
    "executionInfo": {
     "elapsed": 30,
     "status": "ok",
     "timestamp": 1734014428457,
     "user": {
      "displayName": "Anteneh Getachew Yitayal",
      "userId": "12980641551393977386"
     },
     "user_tz": -60
    },
    "id": "zBDpUlGMIe-P",
    "outputId": "d2632e36-dae0-4e20-d576-ed04a2ef24b2"
   },
   "outputs": [
    {
     "name": "stdout",
     "output_type": "stream",
     "text": [
      "birank.py  data_mining\t\t ml-latest-small.zip  requirements.txt\n",
      "data\t   data_mining_P1.ipynb  papers\t\t      Untitled.ipynb\n"
     ]
    }
   ],
   "source": [
    "#list directory content\n",
    "!ls"
   ]
  },
  {
   "cell_type": "code",
   "execution_count": 6,
   "metadata": {
    "colab": {
     "base_uri": "https://localhost:8080/"
    },
    "executionInfo": {
     "elapsed": 20,
     "status": "ok",
     "timestamp": 1734014428457,
     "user": {
      "displayName": "Anteneh Getachew Yitayal",
      "userId": "12980641551393977386"
     },
     "user_tz": -60
    },
    "id": "_3xAfh4rVDvA",
    "outputId": "1f2cb852-f0d0-4237-9064-53fe37e83806"
   },
   "outputs": [
    {
     "name": "stdout",
     "output_type": "stream",
     "text": [
      "Data already downloaded\n"
     ]
    }
   ],
   "source": [
    "def download_data(url):\n",
    "  \"\"\"\n",
    "    Download data from url\n",
    "  \"\"\"\n",
    "  filename = os.path.basename(url)\n",
    "  if not os.path.exists(filename):\n",
    "    path, _ = urlretrieve(url, filename)\n",
    "    print(\"Data downloaded successfuly !\")\n",
    "  else:\n",
    "    print(\"Data already downloaded\")\n",
    "\n",
    "download_data('https://files.grouplens.org/datasets/movielens/ml-latest-small.zip')"
   ]
  },
  {
   "cell_type": "code",
   "execution_count": 7,
   "metadata": {
    "colab": {
     "base_uri": "https://localhost:8080/"
    },
    "executionInfo": {
     "elapsed": 15,
     "status": "ok",
     "timestamp": 1734014428459,
     "user": {
      "displayName": "Anteneh Getachew Yitayal",
      "userId": "12980641551393977386"
     },
     "user_tz": -60
    },
    "id": "YnFx665jFVrY",
    "outputId": "2a20d5aa-ebc6-4d88-9124-488e103a4b2a"
   },
   "outputs": [
    {
     "name": "stdout",
     "output_type": "stream",
     "text": [
      "Data already extracted\n"
     ]
    }
   ],
   "source": [
    "def extract_data(filename, extract_to_path):\n",
    "  \"\"\"\n",
    "    Extract data into project director\n",
    "  \"\"\"\n",
    "  file_dir = os.path.join(extract_to_path, os.path.basename(filename).split('.')[0])\n",
    "  # extract file into the project directory\n",
    "  if not os.path.exists(file_dir)and os.path.exists(filename):\n",
    "    with ZipFile(filename, 'r') as zf:\n",
    "      zf.extractall(path=extract_to_path)\n",
    "      print(f\"Extracted to {file_dir} directory\")\n",
    "  else:\n",
    "    print(\"Data already extracted\")\n",
    "\n",
    "extract_data(\"ml-latest-small.zip\", './data')"
   ]
  },
  {
   "cell_type": "markdown",
   "metadata": {
    "id": "5Wru9YGLdcTk"
   },
   "source": [
    "**Date Load and EDA**"
   ]
  },
  {
   "cell_type": "markdown",
   "metadata": {
    "id": "9QU6X0oidmOH"
   },
   "source": [
    "This dataset (ml-latest-small) describes 5-star rating and free-text tagging activity from [MovieLens](http://movielens.org), a movie recommendation service. It contains 100836 ratings and 3683 tag applications across 9742 movies. These data were created by 610 users between March 29, 1996 and September 24, 2018. This dataset was generated on September 26, 2018.\n"
   ]
  },
  {
   "cell_type": "code",
   "execution_count": 1,
   "metadata": {
    "id": "cdca-qDASj65"
   },
   "outputs": [
    {
     "ename": "NameError",
     "evalue": "name 'pd' is not defined",
     "output_type": "error",
     "traceback": [
      "\u001b[0;31m---------------------------------------------------------------------------\u001b[0m",
      "\u001b[0;31mNameError\u001b[0m                                 Traceback (most recent call last)",
      "Cell \u001b[0;32mIn[1], line 3\u001b[0m\n\u001b[1;32m      1\u001b[0m \u001b[38;5;66;03m# load data of movies and ratings\u001b[39;00m\n\u001b[1;32m      2\u001b[0m data_dir \u001b[38;5;241m=\u001b[39m \u001b[38;5;124m\"\u001b[39m\u001b[38;5;124m./data/ml-latest-small/ml-small\u001b[39m\u001b[38;5;124m\"\u001b[39m\n\u001b[0;32m----> 3\u001b[0m movies_df \u001b[38;5;241m=\u001b[39m \u001b[43mpd\u001b[49m\u001b[38;5;241m.\u001b[39mread_csv(os\u001b[38;5;241m.\u001b[39mpath\u001b[38;5;241m.\u001b[39mjoin(data_dir, \u001b[38;5;124m\"\u001b[39m\u001b[38;5;124mmovies.csv\u001b[39m\u001b[38;5;124m\"\u001b[39m))\n\u001b[1;32m      4\u001b[0m ratings_df \u001b[38;5;241m=\u001b[39m pd\u001b[38;5;241m.\u001b[39mread_csv(os\u001b[38;5;241m.\u001b[39mpath\u001b[38;5;241m.\u001b[39mjoin(data_dir, \u001b[38;5;124m\"\u001b[39m\u001b[38;5;124mratings.csv\u001b[39m\u001b[38;5;124m\"\u001b[39m))\n",
      "\u001b[0;31mNameError\u001b[0m: name 'pd' is not defined"
     ]
    }
   ],
   "source": [
    "# load data of movies and ratings\n",
    "data_dir = \"./data/ml-latest-small/ml-small\"\n",
    "movies_df = pd.read_csv(os.path.join(data_dir, \"movies.csv\"))\n",
    "ratings_df = pd.read_csv(os.path.join(data_dir, \"ratings.csv\"))"
   ]
  },
  {
   "cell_type": "code",
   "execution_count": 3,
   "metadata": {
    "colab": {
     "base_uri": "https://localhost:8080/",
     "height": 206
    },
    "executionInfo": {
     "elapsed": 31,
     "status": "ok",
     "timestamp": 1734014428749,
     "user": {
      "displayName": "Anteneh Getachew Yitayal",
      "userId": "12980641551393977386"
     },
     "user_tz": -60
    },
    "id": "oaHBEVBHU47j",
    "outputId": "da77cebe-f81d-46a2-f80e-d874837408b4"
   },
   "outputs": [
    {
     "data": {
      "text/html": [
       "<div>\n",
       "<style scoped>\n",
       "    .dataframe tbody tr th:only-of-type {\n",
       "        vertical-align: middle;\n",
       "    }\n",
       "\n",
       "    .dataframe tbody tr th {\n",
       "        vertical-align: top;\n",
       "    }\n",
       "\n",
       "    .dataframe thead th {\n",
       "        text-align: right;\n",
       "    }\n",
       "</style>\n",
       "<table border=\"1\" class=\"dataframe\">\n",
       "  <thead>\n",
       "    <tr style=\"text-align: right;\">\n",
       "      <th></th>\n",
       "      <th>userId</th>\n",
       "      <th>movieId</th>\n",
       "      <th>rating</th>\n",
       "      <th>timestamp</th>\n",
       "    </tr>\n",
       "  </thead>\n",
       "  <tbody>\n",
       "    <tr>\n",
       "      <th>0</th>\n",
       "      <td>1</td>\n",
       "      <td>1</td>\n",
       "      <td>4.0</td>\n",
       "      <td>964982703</td>\n",
       "    </tr>\n",
       "    <tr>\n",
       "      <th>1</th>\n",
       "      <td>1</td>\n",
       "      <td>3</td>\n",
       "      <td>4.0</td>\n",
       "      <td>964981247</td>\n",
       "    </tr>\n",
       "    <tr>\n",
       "      <th>2</th>\n",
       "      <td>1</td>\n",
       "      <td>6</td>\n",
       "      <td>4.0</td>\n",
       "      <td>964982224</td>\n",
       "    </tr>\n",
       "    <tr>\n",
       "      <th>3</th>\n",
       "      <td>1</td>\n",
       "      <td>47</td>\n",
       "      <td>5.0</td>\n",
       "      <td>964983815</td>\n",
       "    </tr>\n",
       "    <tr>\n",
       "      <th>4</th>\n",
       "      <td>1</td>\n",
       "      <td>50</td>\n",
       "      <td>5.0</td>\n",
       "      <td>964982931</td>\n",
       "    </tr>\n",
       "  </tbody>\n",
       "</table>\n",
       "</div>"
      ],
      "text/plain": [
       "   userId  movieId  rating  timestamp\n",
       "0       1        1     4.0  964982703\n",
       "1       1        3     4.0  964981247\n",
       "2       1        6     4.0  964982224\n",
       "3       1       47     5.0  964983815\n",
       "4       1       50     5.0  964982931"
      ]
     },
     "execution_count": 3,
     "metadata": {},
     "output_type": "execute_result"
    }
   ],
   "source": [
    "ratings_df.head()"
   ]
  },
  {
   "cell_type": "code",
   "execution_count": 39,
   "metadata": {
    "colab": {
     "base_uri": "https://localhost:8080/",
     "height": 206
    },
    "executionInfo": {
     "elapsed": 24,
     "status": "ok",
     "timestamp": 1734014428749,
     "user": {
      "displayName": "Anteneh Getachew Yitayal",
      "userId": "12980641551393977386"
     },
     "user_tz": -60
    },
    "id": "MG8MokUBkdjz",
    "outputId": "6de2d2d7-41c7-4ec0-88b8-bf8240f7d74d"
   },
   "outputs": [
    {
     "data": {
      "text/html": [
       "<div>\n",
       "<style scoped>\n",
       "    .dataframe tbody tr th:only-of-type {\n",
       "        vertical-align: middle;\n",
       "    }\n",
       "\n",
       "    .dataframe tbody tr th {\n",
       "        vertical-align: top;\n",
       "    }\n",
       "\n",
       "    .dataframe thead th {\n",
       "        text-align: right;\n",
       "    }\n",
       "</style>\n",
       "<table border=\"1\" class=\"dataframe\">\n",
       "  <thead>\n",
       "    <tr style=\"text-align: right;\">\n",
       "      <th></th>\n",
       "      <th>movieId</th>\n",
       "      <th>title</th>\n",
       "      <th>genres</th>\n",
       "    </tr>\n",
       "  </thead>\n",
       "  <tbody>\n",
       "    <tr>\n",
       "      <th>0</th>\n",
       "      <td>1</td>\n",
       "      <td>Toy Story (1995)</td>\n",
       "      <td>Adventure|Animation|Children|Comedy|Fantasy</td>\n",
       "    </tr>\n",
       "    <tr>\n",
       "      <th>1</th>\n",
       "      <td>2</td>\n",
       "      <td>Jumanji (1995)</td>\n",
       "      <td>Adventure|Children|Fantasy</td>\n",
       "    </tr>\n",
       "    <tr>\n",
       "      <th>2</th>\n",
       "      <td>3</td>\n",
       "      <td>Grumpier Old Men (1995)</td>\n",
       "      <td>Comedy|Romance</td>\n",
       "    </tr>\n",
       "    <tr>\n",
       "      <th>3</th>\n",
       "      <td>4</td>\n",
       "      <td>Waiting to Exhale (1995)</td>\n",
       "      <td>Comedy|Drama|Romance</td>\n",
       "    </tr>\n",
       "    <tr>\n",
       "      <th>4</th>\n",
       "      <td>5</td>\n",
       "      <td>Father of the Bride Part II (1995)</td>\n",
       "      <td>Comedy</td>\n",
       "    </tr>\n",
       "    <tr>\n",
       "      <th>5</th>\n",
       "      <td>6</td>\n",
       "      <td>Heat (1995)</td>\n",
       "      <td>Action|Crime|Thriller</td>\n",
       "    </tr>\n",
       "    <tr>\n",
       "      <th>6</th>\n",
       "      <td>7</td>\n",
       "      <td>Sabrina (1995)</td>\n",
       "      <td>Comedy|Romance</td>\n",
       "    </tr>\n",
       "    <tr>\n",
       "      <th>7</th>\n",
       "      <td>8</td>\n",
       "      <td>Tom and Huck (1995)</td>\n",
       "      <td>Adventure|Children</td>\n",
       "    </tr>\n",
       "    <tr>\n",
       "      <th>8</th>\n",
       "      <td>9</td>\n",
       "      <td>Sudden Death (1995)</td>\n",
       "      <td>Action</td>\n",
       "    </tr>\n",
       "    <tr>\n",
       "      <th>9</th>\n",
       "      <td>10</td>\n",
       "      <td>GoldenEye (1995)</td>\n",
       "      <td>Action|Adventure|Thriller</td>\n",
       "    </tr>\n",
       "  </tbody>\n",
       "</table>\n",
       "</div>"
      ],
      "text/plain": [
       "   movieId                               title  \\\n",
       "0        1                    Toy Story (1995)   \n",
       "1        2                      Jumanji (1995)   \n",
       "2        3             Grumpier Old Men (1995)   \n",
       "3        4            Waiting to Exhale (1995)   \n",
       "4        5  Father of the Bride Part II (1995)   \n",
       "5        6                         Heat (1995)   \n",
       "6        7                      Sabrina (1995)   \n",
       "7        8                 Tom and Huck (1995)   \n",
       "8        9                 Sudden Death (1995)   \n",
       "9       10                    GoldenEye (1995)   \n",
       "\n",
       "                                        genres  \n",
       "0  Adventure|Animation|Children|Comedy|Fantasy  \n",
       "1                   Adventure|Children|Fantasy  \n",
       "2                               Comedy|Romance  \n",
       "3                         Comedy|Drama|Romance  \n",
       "4                                       Comedy  \n",
       "5                        Action|Crime|Thriller  \n",
       "6                               Comedy|Romance  \n",
       "7                           Adventure|Children  \n",
       "8                                       Action  \n",
       "9                    Action|Adventure|Thriller  "
      ]
     },
     "execution_count": 39,
     "metadata": {},
     "output_type": "execute_result"
    }
   ],
   "source": [
    "movies_df.head(10)"
   ]
  },
  {
   "cell_type": "code",
   "execution_count": 182,
   "metadata": {},
   "outputs": [
    {
     "name": "stdout",
     "output_type": "stream",
     "text": [
      "#ratings: 100836\n",
      "#movies: 9742\n"
     ]
    }
   ],
   "source": [
    "#total number of records\n",
    "print(f\"#ratings: {ratings_df.shape[0]}\")\n",
    "print(f\"#movies: {movies_df.shape[0]}\")"
   ]
  },
  {
   "cell_type": "code",
   "execution_count": 183,
   "metadata": {
    "id": "_D-BqiTMpftn"
   },
   "outputs": [],
   "source": [
    "# sort the ratings based on userId and movieId for later use\n",
    "ratings_df.sort_values(by=['userId', 'movieId']).reset_index(drop=True, inplace=True)\n",
    "#remove timestamp since not useful for this task\n",
    "ratings_df.drop(columns=['timestamp'], inplace=True)"
   ]
  },
  {
   "cell_type": "code",
   "execution_count": 184,
   "metadata": {
    "colab": {
     "base_uri": "https://localhost:8080/"
    },
    "executionInfo": {
     "elapsed": 301,
     "status": "ok",
     "timestamp": 1734014429032,
     "user": {
      "displayName": "Anteneh Getachew Yitayal",
      "userId": "12980641551393977386"
     },
     "user_tz": -60
    },
    "id": "SEpKcicS50tp",
    "outputId": "b77fe9c2-b12f-4cde-d56c-bd95865b518f"
   },
   "outputs": [
    {
     "name": "stdout",
     "output_type": "stream",
     "text": [
      "<class 'pandas.core.frame.DataFrame'>\n",
      "RangeIndex: 9742 entries, 0 to 9741\n",
      "Data columns (total 3 columns):\n",
      " #   Column   Non-Null Count  Dtype \n",
      "---  ------   --------------  ----- \n",
      " 0   movieId  9742 non-null   int64 \n",
      " 1   title    9742 non-null   object\n",
      " 2   genres   9742 non-null   object\n",
      "dtypes: int64(1), object(2)\n",
      "memory usage: 228.5+ KB\n",
      "<class 'pandas.core.frame.DataFrame'>\n",
      "RangeIndex: 100836 entries, 0 to 100835\n",
      "Data columns (total 3 columns):\n",
      " #   Column   Non-Null Count   Dtype  \n",
      "---  ------   --------------   -----  \n",
      " 0   userId   100836 non-null  int64  \n",
      " 1   movieId  100836 non-null  int64  \n",
      " 2   rating   100836 non-null  float64\n",
      "dtypes: float64(1), int64(2)\n",
      "memory usage: 2.3 MB\n"
     ]
    },
    {
     "data": {
      "text/plain": [
       "(None, None)"
      ]
     },
     "execution_count": 184,
     "metadata": {},
     "output_type": "execute_result"
    }
   ],
   "source": [
    "movies_df.info(), ratings_df.info()"
   ]
  },
  {
   "cell_type": "code",
   "execution_count": 185,
   "metadata": {
    "colab": {
     "base_uri": "https://localhost:8080/"
    },
    "executionInfo": {
     "elapsed": 53,
     "status": "ok",
     "timestamp": 1734014429034,
     "user": {
      "displayName": "Anteneh Getachew Yitayal",
      "userId": "12980641551393977386"
     },
     "user_tz": -60
    },
    "id": "nOOyCrJz7Nwl",
    "outputId": "68b79238-7e14-4aea-aaa6-f066c60caf80"
   },
   "outputs": [
    {
     "data": {
      "text/plain": [
       "(100836, 9742)"
      ]
     },
     "execution_count": 185,
     "metadata": {},
     "output_type": "execute_result"
    }
   ],
   "source": [
    "#number of rating records and the number of movies\n",
    "ratings_df.shape[0], movies_df.shape[0]"
   ]
  },
  {
   "cell_type": "code",
   "execution_count": 186,
   "metadata": {},
   "outputs": [],
   "source": [
    "movie_ratings_df = pd.merge(ratings_df, movies_df, on=\"movieId\")"
   ]
  },
  {
   "cell_type": "code",
   "execution_count": 187,
   "metadata": {},
   "outputs": [
    {
     "name": "stdout",
     "output_type": "stream",
     "text": [
      "# null values:\n",
      "userId     0\n",
      "movieId    0\n",
      "rating     0\n",
      "title      0\n",
      "genres     0\n",
      "dtype: int64\n",
      "\n",
      "duplicated movies: 0\n"
     ]
    }
   ],
   "source": [
    "#check null values\n",
    "print(f\"# null values:\\n{movie_ratings_df.isna().sum()}\\n\")\n",
    "\n",
    "#check if there is duplicated movies\n",
    "print(f\"duplicated movies: {movies_df['movieId'].duplicated().sum()}\")"
   ]
  },
  {
   "cell_type": "code",
   "execution_count": 190,
   "metadata": {
    "colab": {
     "base_uri": "https://localhost:8080/"
    },
    "executionInfo": {
     "elapsed": 45,
     "status": "ok",
     "timestamp": 1734014429034,
     "user": {
      "displayName": "Anteneh Getachew Yitayal",
      "userId": "12980641551393977386"
     },
     "user_tz": -60
    },
    "id": "dOuC1Ub77lBi",
    "outputId": "baa7f1ad-8790-4f6f-921e-2b88f6be1cb1"
   },
   "outputs": [
    {
     "name": "stdout",
     "output_type": "stream",
     "text": [
      "# unique users: 610\n",
      "# unique movies: 9742\n",
      "# unique movies with rating: 9724\n",
      "# movies not rated: 18\n"
     ]
    }
   ],
   "source": [
    "#number of unique users and movies\n",
    "print(f\"# unique users: {movie_ratings_df['userId'].nunique()}\")\n",
    "print(f\"# unique movies: {movies_df['movieId'].nunique()}\")\n",
    "print(f\"# unique movies with rating: {movie_ratings_df['movieId'].nunique()}\")\n",
    "print(f\"# movies not rated: {movies_df[~movies_df['movieId'].isin(ratings_df['movieId'].unique())].shape[0]}\")"
   ]
  },
  {
   "cell_type": "code",
   "execution_count": 191,
   "metadata": {},
   "outputs": [
    {
     "name": "stdout",
     "output_type": "stream",
     "text": [
      "# unrated movies: 18\n"
     ]
    },
    {
     "data": {
      "text/html": [
       "<div>\n",
       "<style scoped>\n",
       "    .dataframe tbody tr th:only-of-type {\n",
       "        vertical-align: middle;\n",
       "    }\n",
       "\n",
       "    .dataframe tbody tr th {\n",
       "        vertical-align: top;\n",
       "    }\n",
       "\n",
       "    .dataframe thead th {\n",
       "        text-align: right;\n",
       "    }\n",
       "</style>\n",
       "<table border=\"1\" class=\"dataframe\">\n",
       "  <thead>\n",
       "    <tr style=\"text-align: right;\">\n",
       "      <th></th>\n",
       "      <th>movieId</th>\n",
       "      <th>title</th>\n",
       "      <th>genres</th>\n",
       "    </tr>\n",
       "  </thead>\n",
       "  <tbody>\n",
       "    <tr>\n",
       "      <th>816</th>\n",
       "      <td>1076</td>\n",
       "      <td>Innocents, The (1961)</td>\n",
       "      <td>Drama|Horror|Thriller</td>\n",
       "    </tr>\n",
       "    <tr>\n",
       "      <th>2211</th>\n",
       "      <td>2939</td>\n",
       "      <td>Niagara (1953)</td>\n",
       "      <td>Drama|Thriller</td>\n",
       "    </tr>\n",
       "    <tr>\n",
       "      <th>2499</th>\n",
       "      <td>3338</td>\n",
       "      <td>For All Mankind (1989)</td>\n",
       "      <td>Documentary</td>\n",
       "    </tr>\n",
       "    <tr>\n",
       "      <th>2587</th>\n",
       "      <td>3456</td>\n",
       "      <td>Color of Paradise, The (Rang-e khoda) (1999)</td>\n",
       "      <td>Drama</td>\n",
       "    </tr>\n",
       "    <tr>\n",
       "      <th>3118</th>\n",
       "      <td>4194</td>\n",
       "      <td>I Know Where I'm Going! (1945)</td>\n",
       "      <td>Drama|Romance|War</td>\n",
       "    </tr>\n",
       "  </tbody>\n",
       "</table>\n",
       "</div>"
      ],
      "text/plain": [
       "      movieId                                         title  \\\n",
       "816      1076                         Innocents, The (1961)   \n",
       "2211     2939                                Niagara (1953)   \n",
       "2499     3338                        For All Mankind (1989)   \n",
       "2587     3456  Color of Paradise, The (Rang-e khoda) (1999)   \n",
       "3118     4194                I Know Where I'm Going! (1945)   \n",
       "\n",
       "                     genres  \n",
       "816   Drama|Horror|Thriller  \n",
       "2211         Drama|Thriller  \n",
       "2499            Documentary  \n",
       "2587                  Drama  \n",
       "3118      Drama|Romance|War  "
      ]
     },
     "execution_count": 191,
     "metadata": {},
     "output_type": "execute_result"
    }
   ],
   "source": [
    "unrated_movies = movies_df[~movies_df['movieId'].isin(ratings_df['movieId'].unique())]\n",
    "print(f\"# unrated movies: {unrated_movies.shape[0]}\")\n",
    "unrated_movies.head()"
   ]
  },
  {
   "cell_type": "code",
   "execution_count": 192,
   "metadata": {
    "colab": {
     "base_uri": "https://localhost:8080/",
     "height": 272
    },
    "executionInfo": {
     "elapsed": 21,
     "status": "ok",
     "timestamp": 1734014429035,
     "user": {
      "displayName": "Anteneh Getachew Yitayal",
      "userId": "12980641551393977386"
     },
     "user_tz": -60
    },
    "id": "Ybt5UEZn8fiS",
    "outputId": "a756b058-7d16-41f5-bdfd-286323ea5800"
   },
   "outputs": [
    {
     "name": "stdout",
     "output_type": "stream",
     "text": [
      "# most rated movies(i.e rating >= 3.0) : 81763\n"
     ]
    }
   ],
   "source": [
    "#most of the movies are 3 and above rated \n",
    "most_rated_movie_count = movie_ratings_df['rating'].value_counts().sort_values(ascending=False)[movie_ratings_df['rating']\\\n",
    ".value_counts().keys() >= 3.0].sum()\n",
    "print(f\"# most rated movies(i.e rating >= 3.0) : {most_rated_movie_count}\")"
   ]
  },
  {
   "cell_type": "code",
   "execution_count": 193,
   "metadata": {},
   "outputs": [
    {
     "data": {
      "text/plain": [
       "title\n",
       "Crippled Avengers (Can que) (Return of the 5 Deadly Venoms) (1981)    5.0\n",
       "Tokyo Tribe (2014)                                                    5.0\n",
       "Colourful (Karafuru) (2010)                                           5.0\n",
       "7 Faces of Dr. Lao (1964)                                             5.0\n",
       "My Sassy Girl (Yeopgijeogin geunyeo) (2001)                           5.0\n",
       "Name: rating, dtype: float64"
      ]
     },
     "execution_count": 193,
     "metadata": {},
     "output_type": "execute_result"
    }
   ],
   "source": [
    "# top 5 mean rating for movies\n",
    "movies_grouped_by_title = movie_ratings_df.groupby('title', sort=False)['rating']\n",
    "movies_grouped_by_title.mean().sort_values(ascending=False).head()"
   ]
  },
  {
   "cell_type": "code",
   "execution_count": 194,
   "metadata": {},
   "outputs": [
    {
     "data": {
      "text/plain": [
       "title\n",
       "Forrest Gump (1994)                 329\n",
       "Shawshank Redemption, The (1994)    317\n",
       "Pulp Fiction (1994)                 307\n",
       "Silence of the Lambs, The (1991)    279\n",
       "Matrix, The (1999)                  278\n",
       "Name: rating, dtype: int64"
      ]
     },
     "execution_count": 194,
     "metadata": {},
     "output_type": "execute_result"
    }
   ],
   "source": [
    "#the highest number of rated movies\n",
    "rating_count = movies_grouped_by_title.count().sort_values(ascending=False)\n",
    "rating_count.head()"
   ]
  },
  {
   "cell_type": "code",
   "execution_count": 195,
   "metadata": {},
   "outputs": [
    {
     "name": "stdout",
     "output_type": "stream",
     "text": [
      "min # of movies were rated by a user: 20\n",
      "max # of movies were rated by a user: 2698\n"
     ]
    }
   ],
   "source": [
    "#each user rated a minimum and a maximum of 20 movies and 2698 movies respectively\n",
    "user_rating_count = movie_ratings_df.groupby(\"userId\", sort=False)['title'].count().sort_values(ascending=False)\n",
    "print(f\"min # of movies were rated by a user: {user_rating_count.min()}\")\n",
    "print(f\"max # of movies were rated by a user: {user_rating_count.max()}\")"
   ]
  },
  {
   "cell_type": "code",
   "execution_count": 196,
   "metadata": {},
   "outputs": [
    {
     "data": {
      "text/plain": [
       "title\n",
       "Forrest Gump (1994)                 329\n",
       "Shawshank Redemption, The (1994)    317\n",
       "Pulp Fiction (1994)                 307\n",
       "Silence of the Lambs, The (1991)    279\n",
       "Matrix, The (1999)                  278\n",
       "                                   ... \n",
       "Meet Joe Black (1998)                20\n",
       "Gone Baby Gone (2007)                20\n",
       "Behind Enemy Lines (2001)            20\n",
       "Solaris (2002)                       20\n",
       "Real Genius (1985)                   20\n",
       "Name: rating, Length: 1297, dtype: int64"
      ]
     },
     "execution_count": 196,
     "metadata": {},
     "output_type": "execute_result"
    }
   ],
   "source": [
    "#movies with more tha 20 ratings\n",
    "rating_count[rating_count >= 20]"
   ]
  },
  {
   "cell_type": "code",
   "execution_count": 202,
   "metadata": {
    "colab": {
     "base_uri": "https://localhost:8080/",
     "height": 206
    },
    "executionInfo": {
     "elapsed": 18,
     "status": "ok",
     "timestamp": 1734014429035,
     "user": {
      "displayName": "Anteneh Getachew Yitayal",
      "userId": "12980641551393977386"
     },
     "user_tz": -60
    },
    "id": "Rvqg4ZEpxJns",
    "outputId": "1ccb93b5-f85f-4e73-e4d7-7f37b809d561"
   },
   "outputs": [
    {
     "data": {
      "text/html": [
       "<div>\n",
       "<style scoped>\n",
       "    .dataframe tbody tr th:only-of-type {\n",
       "        vertical-align: middle;\n",
       "    }\n",
       "\n",
       "    .dataframe tbody tr th {\n",
       "        vertical-align: top;\n",
       "    }\n",
       "\n",
       "    .dataframe thead th {\n",
       "        text-align: right;\n",
       "    }\n",
       "</style>\n",
       "<table border=\"1\" class=\"dataframe\">\n",
       "  <thead>\n",
       "    <tr style=\"text-align: right;\">\n",
       "      <th></th>\n",
       "      <th>userId</th>\n",
       "      <th>movieId</th>\n",
       "      <th>rating</th>\n",
       "      <th>title</th>\n",
       "      <th>genres</th>\n",
       "    </tr>\n",
       "  </thead>\n",
       "  <tbody>\n",
       "    <tr>\n",
       "      <th>0</th>\n",
       "      <td>1</td>\n",
       "      <td>1</td>\n",
       "      <td>4.0</td>\n",
       "      <td>Toy Story (1995)</td>\n",
       "      <td>Adventure|Animation|Children|Comedy|Fantasy</td>\n",
       "    </tr>\n",
       "    <tr>\n",
       "      <th>1</th>\n",
       "      <td>1</td>\n",
       "      <td>3</td>\n",
       "      <td>4.0</td>\n",
       "      <td>Grumpier Old Men (1995)</td>\n",
       "      <td>Comedy|Romance</td>\n",
       "    </tr>\n",
       "    <tr>\n",
       "      <th>2</th>\n",
       "      <td>1</td>\n",
       "      <td>6</td>\n",
       "      <td>4.0</td>\n",
       "      <td>Heat (1995)</td>\n",
       "      <td>Action|Crime|Thriller</td>\n",
       "    </tr>\n",
       "    <tr>\n",
       "      <th>3</th>\n",
       "      <td>1</td>\n",
       "      <td>47</td>\n",
       "      <td>5.0</td>\n",
       "      <td>Seven (a.k.a. Se7en) (1995)</td>\n",
       "      <td>Mystery|Thriller</td>\n",
       "    </tr>\n",
       "    <tr>\n",
       "      <th>4</th>\n",
       "      <td>1</td>\n",
       "      <td>50</td>\n",
       "      <td>5.0</td>\n",
       "      <td>Usual Suspects, The (1995)</td>\n",
       "      <td>Crime|Mystery|Thriller</td>\n",
       "    </tr>\n",
       "  </tbody>\n",
       "</table>\n",
       "</div>"
      ],
      "text/plain": [
       "   userId  movieId  rating                        title  \\\n",
       "0       1        1     4.0             Toy Story (1995)   \n",
       "1       1        3     4.0      Grumpier Old Men (1995)   \n",
       "2       1        6     4.0                  Heat (1995)   \n",
       "3       1       47     5.0  Seven (a.k.a. Se7en) (1995)   \n",
       "4       1       50     5.0   Usual Suspects, The (1995)   \n",
       "\n",
       "                                        genres  \n",
       "0  Adventure|Animation|Children|Comedy|Fantasy  \n",
       "1                               Comedy|Romance  \n",
       "2                        Action|Crime|Thriller  \n",
       "3                             Mystery|Thriller  \n",
       "4                       Crime|Mystery|Thriller  "
      ]
     },
     "execution_count": 202,
     "metadata": {},
     "output_type": "execute_result"
    }
   ],
   "source": [
    "movie_ratings_df.head()"
   ]
  },
  {
   "cell_type": "code",
   "execution_count": 198,
   "metadata": {
    "colab": {
     "base_uri": "https://localhost:8080/",
     "height": 487
    },
    "executionInfo": {
     "elapsed": 721,
     "status": "ok",
     "timestamp": 1734014429741,
     "user": {
      "displayName": "Anteneh Getachew Yitayal",
      "userId": "12980641551393977386"
     },
     "user_tz": -60
    },
    "id": "wgNk55dbyzbW",
    "outputId": "1fc025a7-fc1f-4d44-eb2a-5b4f496cc2fa"
   },
   "outputs": [
    {
     "data": {
      "image/png": "[encoded data removed]",
      "text/plain": [
       "<Figure size 800x500 with 1 Axes>"
      ]
     },
     "metadata": {},
     "output_type": "display_data"
    }
   ],
   "source": [
    "# The plot indicate some users rate many movies\n",
    "plt.figure(figsize=(8, 5))\n",
    "plt.hist(movie_ratings_df['userId'], bins=22, density=True)\n",
    "plt.xlabel('Users(ID)')\n",
    "plt.ylabel('Density of Interaction')\n",
    "plt.title(f'The number of movie each user interacted with')\n",
    "plt.gca().spines[['top', 'right',]].set_visible(False)\n",
    "plt.show()"
   ]
  },
  {
   "cell_type": "code",
   "execution_count": 199,
   "metadata": {
    "colab": {
     "base_uri": "https://localhost:8080/",
     "height": 487
    },
    "executionInfo": {
     "elapsed": 700,
     "status": "ok",
     "timestamp": 1734014430435,
     "user": {
      "displayName": "Anteneh Getachew Yitayal",
      "userId": "12980641551393977386"
     },
     "user_tz": -60
    },
    "id": "Asm3dPQ-8k6l",
    "outputId": "176e93ee-8344-428c-f4ae-9ce1bf62ad0e"
   },
   "outputs": [
    {
     "data": {
      "image/png": "[encoded data removed]",
      "text/plain": [
       "<Figure size 800x500 with 1 Axes>"
      ]
     },
     "metadata": {},
     "output_type": "display_data"
    }
   ],
   "source": [
    "# This is the equivalent of the previous; some movies have been rated by many users\n",
    "plt.figure(figsize=(8, 5))\n",
    "plt.hist(movie_ratings_df['movieId'])\n",
    "plt.xlabel('Movies(ID)')\n",
    "plt.ylabel('# Interaction')\n",
    "plt.title(f'The number of interaction of each movie')\n",
    "plt.gca().spines[['top', 'right',]].set_visible(False)\n",
    "plt.show()"
   ]
  },
  {
   "cell_type": "code",
   "execution_count": 200,
   "metadata": {
    "colab": {
     "base_uri": "https://localhost:8080/",
     "height": 521
    },
    "executionInfo": {
     "elapsed": 801,
     "status": "ok",
     "timestamp": 1734014431230,
     "user": {
      "displayName": "Anteneh Getachew Yitayal",
      "userId": "12980641551393977386"
     },
     "user_tz": -60
    },
    "id": "1MRJ20af8yv0",
    "outputId": "91b3b1f4-4c51-400c-dfee-25d1dd45569f"
   },
   "outputs": [
    {
     "data": {
      "image/png": "[encoded data removed]",
      "text/plain": [
       "<Figure size 800x600 with 1 Axes>"
      ]
     },
     "metadata": {},
     "output_type": "display_data"
    }
   ],
   "source": [
    "# This plot shows that the majority of the ratings are 4 and the minority is 0.5\n",
    "plt.figure(figsize=(8, 6))\n",
    "plt.pie(ratings_df['rating'].value_counts(), labels=ratings_df['rating'].value_counts().index, autopct=\"%1.2f%%\")\n",
    "plt.title('Rating Distribution')\n",
    "plt.gca().spines[['top', 'right',]].set_visible(False)\n",
    "plt.show()"
   ]
  },
  {
   "cell_type": "markdown",
   "metadata": {
    "id": "iPyGuFzf_csF"
   },
   "source": [
    "** **"
   ]
  },
  {
   "cell_type": "code",
   "execution_count": 201,
   "metadata": {
    "id": "X8bFywb7VGuZ"
   },
   "outputs": [],
   "source": [
    "\n",
    "def create_adjacency_matrix(data):\n",
    "  \"\"\"\n",
    "    create an adjacency matrix from a pandas dataframe of users, movies, and ratings\n",
    "\n",
    "    Args:\n",
    "      data: A pandas dataframe of users, movies, and ratings\n",
    "\n",
    "    Returns:\n",
    "      adj_matrix: A numpy array of shape (num_users, num_movies)\n",
    "      user_to_index: A dictionary mapping user ids to their index in the adjacency matrix\n",
    "      movie_to_index: A dictionary mapping movie ids to their index in the adjacency matrix\n",
    "  \"\"\"\n",
    "\n",
    "  # select unique users & movies\n",
    "  unique_users = np.unique(data['userId'].values)\n",
    "  unique_movies = np.unique(data['movieId'].values)\n",
    "\n",
    "  # map user & movie ids to unique indexes\n",
    "  user_to_index = {user: idx for idx, user in enumerate(unique_users)}\n",
    "  movie_to_index = {movie: idx  for idx, movie in enumerate(unique_movies)}\n",
    "\n",
    "  data['user_index'] = data['userId'].map(user_to_index)\n",
    "  data['movie_index'] = data['movieId'].map(movie_to_index)\n",
    "\n",
    "  # initialize adjacency matrix\n",
    "  num_users = len(unique_users)\n",
    "  num_movies = len(unique_movies)\n",
    "\n",
    "\n",
    "  adj_matrix = np.zeros((num_users, num_movies), dtype=np.float16)\n",
    "\n",
    "  # populate the adjacency matrix, (user_index, movies_index) = rating using numpy vectorized\n",
    "  adj_matrix[data['user_index'], data['movie_index']] = data['rating'].values\n",
    "  return adj_matrix, user_to_index, movie_to_index\n"
   ]
  },
  {
   "cell_type": "markdown",
   "metadata": {
    "id": "dyXHDKx9bjjr"
   },
   "source": [
    "**Algorithm: The Iterative BiRank Algorithm**\n",
    "\n",
    "\n",
    "\n",
    "**Input:** Weight matrix \\( W \\), query vectors \\( p<sub>0</sub> \\), \\(u<sub>0</sub>), and hyper-parameters \\(&alpha;, &beta; \\)  \n",
    "**Output:** Ranking vectors \\( **p**, **u** \\)  \n",
    "\n",
    "1.  Symmetrically normalize \\( W \\):\n",
    "  \\[\n",
    "   S = D<sub>u</sub><sup>-1/2</sup> W D<sub>p</sub><sup>-1/2</sup>\n",
    "   \\]\n",
    "2.   Randomly initialize \\( **p** \\) and \\( **u** \\)\n",
    "3. **while** Stopping criteria is not met **do**  \n",
    "   \\[\n",
    "   p &larr; &alpha; S<sup>T</sup> u + (1 - &alpha;) p<sub>0</sub>\n",
    "   \\];  \n",
    "   \\[\n",
    "   u &larr; &beta; S p + (1 - &beta;) u<sup>0</sup>\n",
    "   \\];\n",
    "4. **end**\n",
    "5. **return** \\( ***p*** \\) and \\( ***u*** \\)\n",
    "\n",
    "\n",
    "![Screenshot from 2024-12-12 15-52-16.png](data:image/png;base64,iVBORw0KGgoAAAANSUhEUgAAAYMAAAC6CAYAAABMZiHDAAAABHNCSVQICAgIfAhkiAAAABl0RVh0U29mdHdhcmUAZ25vbWUtc2NyZWVuc2hvdO8Dvz4AAAAtdEVYdENyZWF0aW9uIFRpbWUAVGh1IDEyIERlYyAyMDI0IDAzOjUyOjE2IFBNIENFVDoKLq4AACAASURBVHic7d15XNTF/8Dxl0cslQgJBcm3WDpkOxTyAtMCTQWPgp+pWFp4lKKVoKVQqZlWeKSQWdLhGSpJKnaBR4ClQaKJWLFauVsJbAq6iskuafP7YxdEOVxwWVDm+Xj0SN39zHt29rP73s/MfGZaCCEEkiRJUrPWsrErIEmSJDU+mQwkSZIkmQwkSZIkmQwkSZIkZDKQJEmSkMlAkiRJQiYDSZIkCZkMJEmSJGQykCRJkpDJQJIkSUImA0mSJAmZDCRJkiRkMpAkSZKQyUCSJElCJgNJkiQJaN3YFbjalJSc4eDBnzhxUs8pvZ4z//xDmzZtcHJyxNnZmU4d7+OGG25o7GrazMGDP6P7+2/0+lPo9ado3boVTo6OODo54nH7bdx55x2NXcVGZTQayc39iaKiYvSnTnH69GluuOEGnBwdadfuJu699x5uusmpsaspSbSQm9tcXknJGVK3bmf79m/4+ec8vFQdcG53E05OTrRt2xb9qVPoT+opLj7B4V9/5QEfb/r1e4TA/n25/nr7xq6+1e3Zs5dt29PY8U06zs7taH+rGzfd5ISzczvKyv7lpF6P/qQejfYPWrRoQVBgPwYPCuKOOzwbu+o2k5Kyje070vjhh2zuuEOJy80u3OTkxE033cSZM2c4qddz8sRJfvlFzd1330W/vr0ZODBIJgap0chkUIs///yLhLWJ7PgmneHDHqdHj+54d+p42eP2/bifXbu+J3nLlzz26CCeeGI4bq632KDGDWvTpi2sWrOWu+68g6Cgfvh274qjo2OtxxQW6vg+M4tPN2ykrUNbnho1An//h2xUY9vS60+xPjGJDUkbCQzsR4D/Qzzg0wmFQlHrcb/kqfn++x9ITEzioYce5OmnR+Kp9LBRrSXJTEjV+vCjlaJz155i3vxFoqTkTL3KKCouFq/NflN06dZLbEjaZOUa2s7vvx8RgQOCxePDRooDuQfrXc4XX6aIvv0GidFjxgu9Xm/FGja+b7/bLbr7+YvIqdPF0aP59Srj7NmzIu6dpaJLt17i3aXxVq6hJNVOJoNLnDlzRoRPnCwGP/q4+PXX361SZs6BXNG33yAxPWqGVcqzpa3bdojufv7iw49WWqW8s2dLxYyZr4s+fQeKX35RW6XMxvb2ondEz4f6iu92fW+V8o5otGLI0CevyaQpNV0yGVRy9uxZMTz0KTHztbnCYDBYteySkjMiYsp0Me6ZSVYttyElfbZZ9O03SBw8+LPVy96+PU085N9P7M/JtXrZtvTyK7PE06OfFcePF1m97Jj5i8SjwcPEqVOnrF62JF1KjhlUMu7ZSdxyswsxb81psBgvTH4Re3sFCxe81WAxrCE941tem/0Gaz9ZwW23/a9BYmRm7SH65ZmsWvEBnp7KBonRkOLeeY/d32eSsGb5ZccF6mve/EUcPPgzaxNWNEj5klRO3mdgtiz+I6677roGTQQA7y5ZxNH8AjZs2Nigca6E7u9jzHptLh8se7fBEgFAD7/uvBz1EpMjXmqwGA1l9+5Mtm7bwUcfvNdgiQAgOupFbr7ZhUWL32mwGJIEyAFkIYT462i+8O8dJM6cqd9AcV0dO3Zc+AcENkjXgjVMjnhJfLpho83ivfLqbPHx8lU2i3elSksNom+/QeLQocM2iXf2bKl4pO8gcejwrzaJJzVP8soAmDVrDpOfD+fGG2+0Sbybb3Zh5MgRLHg71ibx6mL37kw0Gi3Dhw2xWcwXp05mxYo16HR/2yzmlVgW/xEP9uxBhw532yTe9dfbM3XqC8yaNdcm8aTmqdkng9yDP/Hb70cYMiTYpnFHPjmcb77JID+/wKZxL+f9ZR8xfvw4m8Zs1+4mHn10IKvWrLVp3PowGIysWLmGZ58ZY9O4AwcEUlRUTHb2PpvGlZqPZp8Mtm9PY9DAIJvHveGGG+j7SG+270izeeyaFBUVoz50mH59e9s89uBBA9i6dbvN49bVd7t206nj/fzPvb3NYz/22EC2bf/G5nGl5qHZJ4PUrdsZPHhAo8QePHhAk/pwb9v+Df379WnQAdGa3H//vdgrFBzIPWjz2HWxfUdao50vgwYGseOb9EaJLV37mnUyOHXqFDrd39x37z2NEr9rl84cPPhzo8Suzk8//Uznzg80Wvxu3bvyUxNqj+ocPPgzXTr7NErsO++8g3//PUdhoa5R4kvXtmadDI4dL8LD4/ZGi3/99fY4OLSh+MSJRqtDZceOFeHm5tpo8W91c6WouLjR4lvi6NF8br311kaL7+bmSlFR024j6erUrJNB0fEi3Fwt/fIrISWyFx0HLOYAAAVsGNWLLsPXo7mCOri5ulLcRD7cx4vqkAzUS3nUuxfhW8x1z36dAO8+TNtd//hurk37i66k5AwKhQIHhzYWPT8/aSxduo1kufkEUccNo2O3ySSfrn8d3K6ChCldnZp1MmjRsiUtW7aw+PlGYxkYyygr/3tZGRf+Vj+tr2vN+fP/XVEZ1tKyZQtatrCwPcyv3Vh2yd+N9Y/funVrzv/XNNqiOq1ataR16zpsAWI0UlZWRvl3v7GszNROV3DKtG7dmv/On69/AQ3FeJjkBUtJywco4UDSYpbvNiWtot2rmZ+wj+pyYNHu1cxPOmh6LD+D2AVfojZeKC/lSn5pSXXSrJOBi7Nzo/8SPXasiFtucWnUOpRzcXZu1F+dx44f55abb260+Jdzww038M8//zRqHY4fO87NtzTBNio5SFLSJtK0RqCYvQmb2LDbNG06P20TG5IyqW4StSZ1PRu2/EQJYDz0FQlJ21CXACWH2ZKUSIrmCn5dSHXSrHc6c3Fx5nhRUR2PqunkNKJJTWRDSWcmDutIWwtLKy4uxtnZuY51aBguLs4cP163ZFDtj9z8bcyYspg0TRnOvaeyZMFgLNnW5vjxogZd/sIa/vc/d44ezed//3O3/KBqTpnTuauZ/sYm1EVt6DV9IW8EWTZVtckmTJfHWZv9uPkvSsZt2UX53SreM7dQ090R3eamXnisz0L2ZZf/ZTArswc3UGWl6jTrKwMnJ0euu+46C2dn2NHWwQ6KD5OWXYA69SM2VLqEVa+YxpwV69mw5bDFHUcHcg9y//331qfqDeK+++7l4MGfLHuygzMOgGZ3JhrNPpYn7KOk/DGFkmGxSaTG+VOydT1pFl7q5x78ifvuazrtUZ3777uHXAvbyMHBASgkd+9h8nM3sjy98MKDdvcT+fEGVo6ClGXbLRp3KioqxmAwNOogv3TtatbJACCwf19SUrdZ8EwFXYcNRmn3KwnPhDBsQSGendpVPKoau4R3xnaoU+zt29Po0zugbhVuQAEBD7N1m4X3PXj2Y3jXNpSkz+GxkAhSHDqiBBQALh3wdnegrKiYEgclnhb86C0uLubPP4/i4335neQaU5/eAWzbbtmNgm17jiDIuYy9C0cRNG4NeN2PnR3Y2UFbVRdUbeF0URmK9qbEejk7vkmn7yO2vyFQaiYae3GkxrZnz14R+kSYxc83HNeInDyNOFXNdgenUl4QnUd+Jo5bWFbffoPEb79ZZwMdaxky9Emxf/8BC599WhzNyxV5R6tpjCOfiQm9A8WEZMt2/VrzyTrx2uw3La9oIzl9ukR06dZLlJZauN+FoUjkHTgkjl66JcGpdPH6sMdEj66BYsInh4QlpY17ZpLY+e2uulZZkizS7K8MunXrwrlz5yxe80XhosRbpaTtFd6k++VXqXh4eHDnnXdcWUFWFvb0kyz74GMLn+2Au6ojKvdLGuN0JjMmvUfJqIW8E3z5ywKDwciaT9YR9vSTda+wjTk4tCH4sUGs+cTCdZQUzqg6dcD9kkEkI12I2rCF1PkdyX1nMVsuM3SVl3eIQp2Ohx/qWb+KS9JlNPtkADBrZjQzX7uyFSHVK8IZ+c5hFAUfMSbyS/JreW5JyRkWvh3L7NdeuaKYDeGxRwdRXHyCrdt21LsM494v2VUC+QnTCOwTzIy02meEvPd+PAH+D101G9xETJ5EwtpEjh6t7V2uXcHWVxk6IIjHFmrpNPJZ+lxmQtnLr77GjFem1zueJF2O3OnMLCp6Ji1btmjwzW0Axk94njvvvIOo6VMbPFZ95B78iYkTI/j0008afEG23bszmR49k5SvN9PWwZKe86Zh9Zq1fPFlCp9tSGjwWPPmL+Kvo/m89+7iBo8lNV/yysDs1VemkXvwZ1atbtgP96LF76A/dYqIyc81aJwr0anj/YSFjSR84mTOnGm4efXaP/7kpemv8PbCt66qRAAQ9vRI2t3kxIsvvdygcTYnf8H2HWnMmf1qg8aRpGY/gFzZX38dFb0e7iu+/nprg5Sf+GmS6B/0mDhx4mSDlG9tM2a+LsY9M0mcPVtq9bILC3UiaGCI2Lgx2epl28rZs2fF48NGircXvdMg5e/8dpfo0bN3k5tkIF2bZDK4xKFDh0XffoPEkneXWbXcmPmLxKPBw8Sff/5l1XIb2py5MWLI40+IwkKd1crcv/+ACOgTJNat32C1MhtLUXGxGPXUWDFlapRVk+byFatFQJ8gcSD3oNXKlKTayDGDapSUnGF61Ktcd911vPRiBLffflu9y9Jo/2DuG/Nod9NNzJ0zk+uvv96KNbWNL774msVx7xI1bSpBQf3qXY7BYGTtukQSE5OYP+8NOjfSUtANYf6Cxezd9yMzXo3Cu1P975UoLNSxOHYJx44XEbtoPu3a3WTFWkpSzWQyqEVq6nbilrzHPfd4MWrkCLrUsNZ/eQNWXuItM2sPCQnr+ePPv3hx6mR6Bzzc4PVtSPn5BcTGLeXnn39hzJin6d/vEZycHC069ujRfD7/4iuSPttMYP++TJo0/qobI7DEjz/mMH/BYuyvt2fM6Kfw8+2Ovb1lc5AP5B5k3boN7N33I89NHG/zbVglSSYDC6xYuYaNm7Zw/HgRXTr70KlTR5zb3YTTTU78dTSfm2+5hVP6k5zSn+LAgYPsz8nF3b09w4f+HyNHjrji+MYiLQUo8TRPPzydr6XERYlper+RfHUhDiqlxeshXYmff/6Fd9/7gN27M7n7rjvp7tuN9re6cZOTE87O7Sj7919OntSj1+vRaP8g8/ssTp0u4ZE+/kRMfq6Rl1IoIV9dgouqvelOaWMxmgI7PD3Niem0Fk3JrXheet9EHX3xxdes/mQdhw4dpkvnB+jc2RsXFxducnLi/H//Ya9QcOLkSfR6PT/99AvZe/dhb2/PsKH/x9gxYRYnEEmyJpkM6qCoqJgf9mTz22+/c+KknhPFJ9i1O5Pz58+jVN7O/fffj//DPfHt3s3iX82WUMcNI6JsFlund4TT25g8cA5lM74hPkhh2ldgUjGzUl6jm42/Q/bu/ZGcAwc5duwY+lOn+OmnX2jT5kYc2zpw11138T/39jzQ2Yd771HZtmI1MW4jvNcmgr6JJ6StqV1HpvuzdsvzqCghZWIwG/oksHKYdabTlpScIXvvPvLy1BQXn2Dvvv3k5xfQ8f57uf3222jXrh1KpQddu3ZulD2VJamyZr1qaV25uDgzaGBQxd9LS0vx7x3I+GfHkvTZZo4cOUJ29l4GDujPoIFBdOhwt3XiujtTkl2MESj4LJG92OFZVAw4cyBpO2VBb9g8EQB07dqZrl07V/x9ztx5qFR3M3zY47Uc1YgUzrR3KMG0SncGy7cWoygppAigaCcbDt1P8FzrfSk7OLShT29/7r7rTiIipzFwQH/Wrd/AYjkWIDVB8j4DK5gY/gzx78eh0/3NqJEjaNvWkehXXiNkSCgffrSCo/n1v1MVwKG9MxQXU2Lcxyepzkwc2oGigmI4nUlCujOjRjaNxd1atWrZZDbqqZ4z7i5nyC8ykr81EU3gs/SxK6HoNGg+X09BzycYYOWtJVatTmB8+AvMmzeX8AnP0IIWCOTFuNT0yGRgJR063E1GWiqHD//KoUOH2fTZOt5eEIPBYOSZZ57jyZFjWLvuU06cOFnnshXOt+JcUoj689Xkdn2a4E4OGIuK0Xy+htyezxJcsbR+CeotS1meZt6T4PRhkuPmMW36PDbkltRUvNW0atWK801xF64Kt9LeuYSigp9ISLJj1KgeeLoUU6zNZHmSglFje5jGEqppt/zdq5kzfRrT4jJqXWqkXHFxMSOfGktRUTEpX22mw913AdCiZQvEfzIZSE2PTAZW9uYbswkIeIieD/XFaDQw+YWJpKYkEx39In/++RchQ0J5dvxzJCd/gdHSPSJdbsWlKJO4JBg+tiNtXW5FcWgNM9baMS68h3ng2MiBpI9I2f0jasx79JbZ4T02moVj27AhYV+N2/JYS8tWLfmvSV8ZKHBpb4dm7WKyO4YxwMUZZ+di0hYs5sCDzzG8fAeeKu1WQpmzP5ELoul56OJ9LKqzIWkjQ4aOZPpLU3jpxYiLHmvRogVymE5qimQyaAADBwTy9ZcbmfPGfD74cAVgWuLh5eiX+DZjG2PHhrH3x/082OsRIqZMu/yicC7tcSn7lSKvMIJdAOdbcdEexm7sLIZXXBUo8B42lV4ObejkaR5AcHDGrmAfyUmF9BzWhYYeVmjdqjXnzp9r4ChXpr2nM1qNguCxXVDggItLGbnFXZgVUal9qrSbA54qJW2NWnLLOtKthmGF0lID48NfQK3+lZ3pqXhXszeDTAZSUyWTQQNxdHTk0/WrKSsz8nTYs5SWGioe6+HXnTfmzGJf9i4eGzyIbdu+wadzD15+5TV27c6sprQeLNy1h4y55i8s9ydYe2BXNbNeClAXtEdV/gu36DDZezPZWwCeLg0/r79ly5b814Q3tAdwH7WWg9kreMqcRHvNTeNgSjTdKs/LrbbdCkh5YzWK8OfoVU1W/fKrVB4O6Mfop0cya2Z0jfFbtmjJf6Jpt5HUPMlk0MBeeH4ikZHP8XBAP775JqPK4488EsCit2PYu+c7HnzQl4SE9TzYqw9vvDmf/fsP1C2Y8TC5ivsv7Dfs3oWQUc8zyquQ3TbYWLy6AWRjkRZNpbX6T+drya+oipF8tZbTDV6zOrq03YyH+WT6exQ89iZR3aom1SlTo9i1azfZP3zHgw/61V52C5Djx1JTJJOBDXR+wIfsH77j8y+/4vW5MdU+p3Xr1jw6eCDxy5aQ+vUW7rrrThbHvUvf/oOJjXuXQ4cO1xojP20pc2auIVuzjfe3aCF3PdOmz2P+3GnEFQxiXM+Gn3vaunVrzp27uJtIkzCN8BUHTX85vY0ZoaOYm27OBuqPCJ+0mkMNn6csV6XdzpAcGc7ygjLUSfOYkXThfUjP+JZOPr4MHBjIvBjL9sOQ3URSUyXvM7Chd2IXkpS0icABwXyw7F2UyturfV7btg6MCB3KiNCh6HR/89XXW3llxuucO3eOgQMCGTgwkNv+537RMe59nmdWH5hV8S9KFi4wYjQqUNjoHoSWLVtx7tzF3+xN9R6JGnV6okq7qZalEXLJ016dMZvTp0vI+TGTli0t/011NXSlSc2TvDKwsWHDhrDi42U8P3kK69Z/etnnu7m5Mm7s02xMWsvit2MoKzMyfvxzPDFyNAlrEy8zVdV2iQCgdetWnDt38dTSq+UeiYvV3G4/7MnG78HedO/ejXeXLKpTIgDkfQZSkyWTQSNwd2/Pl59vRKv9i0nPT7H4uDvvvIMXnp9IytfJvBI9jaNH8wkZEsozz05i8+bPMRgMly+kAVX3q9fSeySqzOM/fZjkuNdNc/3VDX+PhCXeilnIhx+uZMe2Lwh+bFC9ymjRAmQvkdQUyWTQiF55+SVGDH8cn849+GFPdp2O7djxPqKjXuTbjG0888wYfsw5QK+H+zE5chpbt9Z//+Ir0aplK87/d8lNZxbdI1HNPP4yUI2K5o1RdnwS3/D3SNTmp59+4ZF+g1AqPVj+8fu0adOm/oXJbCA1UTIZNLKHH+7F3j3f8eGHK1m0eEm9yvDz7cbc12eyd893hDw2iG07vsH7AT+iX5nFd7u+t3KNa9aqdSvOn7s0GVhyj0Q18/hdOqByUVB0SIt71w4Nfo9ETeLeeY833prPuoSVPPnE8CsuT44ZSE2VTAZNQOvWrVn+8fu0a3cTQ4Y+SVFRcb3L6tMngEULY/hx7256PdiDdes+5cFefZj7xjx+3J9jtTpXp/ovOsvvkbh0Hv/p3KXMz+5P1Cjbr+h55IiGR4OH0abNjSSuW42r6y1WKVdeGEhNlZxN1ISMGf0UPR/0Y+jwkUyJfKHe/dJgWido8OABDB48gNOnS0hJ3UZc3HsUFBQycGAgAwcEolJ1sGLtoXWrVpyrz9pExsN8MnM1ZcMuzOMvSlvMnN33EzW3P+6XOdzaPvp4JV98mcKSuIV4eiqtWrYcQJaaKnll0MSUL3i3Z08206NmWKXMtm0dCB3+OGtWf0RCwnKcnByZMet1HgsZzgcfruCvv45aJU7LVq34r87JoLjqPP7cxYyclUlZyU7iZi5lV9HlS7EG3d9/E/pEGGfPlvJ58garJwKAFi1bImQ3kdQEySuDJurNN2bzdcpWej7Ulw/jl3DfffdapVw3V1fGjnmasWOe5sgRDV99ncr48BdwcnKsuIfBuV27epXdqmVLztf5i86ZkCrz+KeydVe9qlBv69Z/yooVn/BO3AKrtXV15E1nUlMlrwyasMoL3n340Qqrl3/HHZ6mqapfbeaV6GkUFBQyZMgTjHtmEps2b7loPSVLVDuA3MSVlJxh7DMT0Wr/Ysf2Lxs0EYAcM5CaLpkMmrjyBe8MBiNho8c32L0EHTveR9T0qezM2Mr48WPIyTnIwwH9mBzxksVTVa+2mTLJW76kf9CjhI8fxysvv2STmHKhOqmpksngKjH5hYlMnjyRXg/3Iy0to0Fj+XbvxpzXZ5D9w3eEhDzKth3f0MnH1zRV9bvdNR53NSxhDXD+/HlemPwie/fuI3N3Ot27d7VdcHlpIDVRMhlcRbp0foC9e74j+fOaF7yztj69/Vm0MIacHzNNU1UTk+jRszdz5s5j34/7L3pu09/cBrZt/4bOXXsyZEgwb8x9zebx5ZiB1FQ1swHkEvLVJbio2pvmvBuL0RTY4elpXpb4tBZNya14ujelldOqWhJn2YJ31tSyZcuKqaolJWdISd3KkiXLOJqfz8ABgQwaGNTkt72Mip7Jv//+y4H9WY1Wh5YtW/Cf3PZSaoKa15WBMZO5T80hxbyAvnpZOEMjV6MGoISUqLHM+b7+N3zZUl0XvLMmB4c2DB/2OKtXfci6hJW0a3cTM2a9zptvLeCIRsuff/5l0/pczu7vM+na/SEefrgnixfNa9S61HSfwVW574N0TWleyUDhTHuHEoqLgdMZLN9ajKK4kCKAop1sOHQ/wb1tf7drfdV3wTtrcnW9hTGjn+KzDWuZOOEZ/vvvPOGTIhjxZBhrPllHcXHjJtfX58awZs16dn27nUEDgxq1LlBzN9FVt++DdM1pXskAZ9xdzpBfZCR/ayKawGfpY1dC0WnQfL6egp5PMMClsetYd1ey4J01ubu3x93dna+/3MSMV6LQ6f5myNCRjH1mIhs31X2q6pXIycnFPyCQe1VefBC/BHt7e5vFrlUNA8gu7s6UFJn2fdCY930oKSoGjOZ9H4Y0rX0fpGtOM0sGt9LeuYSigp9ISLJj1KgeeLoUU6zNZHmSglFje1xYEM2oJW3FUlI0F44uyt7I/IR9TfJyvfKCd4tj322UOlQeQL7//nuZPm0KO9NTCR8/jtxc01TVFya/SGrq9gatx8K343h78Tts2rSeYcOGNGisuqppzODq3PdBupY0s2SgwKW9HZq1i8nuGMYAF2ecnYtJW7CYAw8+x/CKzYMPk/zOTtJ2H6bEPLZctHs1n6RnkauBtjUV38jKF7xzcnLk8WEjbd5F06pVa85XM7W0e/euvD7bNFV1yJBgdqSl09G7O9Evz+Tbb613q/Hhw78yYGAIt9xyMwlrltf7TuqGVNOYgaX7PkhSQ2lmyQDaezqj1SgIHtsFBQ64uJSRW9yFWRFdKi2T3IGQ6T3wtFPiZe42cukZxqSudjh3su7ibpaqywDj2DFP89YbrzFk6Eg+/+Irm9XRkuUoegc8zNsL3iI35wd69epJ4oaN+D1omqq6d9/+Wo+tzbL4j4h+5TU+/PA9wp4eWe9yGlqNU0st2vfBtAnQ/JmvMm1B5U2A5pk2AcptGpsASVenZpcM3Eet5WD2Cp4y/9LqNTeNgynRdLv05/5pLQcc7sez0j+pc0vw9HKwVVUvUtcBRi+vDuxMTyUry3oL3l1OXe4zaNGiBYMHBfH+0lh2bPsClepuli5dxiP9BvH2onfIyztkUTlH8/N5fNhI/vtPsOmzdVX2hm5qWrRsgahuaqlF+z6UQPt+RM6Npk/BGlI1QJkd3mOjWTi2DRsSGncTIOnq1szuM6gD7U+UqYZU6hIqRqN1wNuzlmMaUH03ln/rzYZZ8K469V3Cuk0b01TV4cMe5++/j5GSuo1Zs+diKDUwaFAQA4L64+FR9V6KNWvWsW79Bt6JW4CXV+NcsdVVzTedmfZ9qOD+BGsPPHHJcxxwcChGnbaJNIchTPIEjM7YafaRnFRIz2FhjbYJkHT1k8mgihKyE95jS3omGkrY0DWa4Q47mb9iO9m5BbRfloFXZIDN19ivOsBoR0JBMZw+bBpg/KTmAcaBAwLp+aAf48Mn80gff8Y/O7ZB6tiyZSv+u3Tbyzpydb2F0WGjGB02Co32D776KpVJz0+hTZs2DDLvw9CqVSsiIqdxf8d7SU1JtlLtbePK9jMooSB3H3v3/kSJwwicAYoOk703k70F0NWlca5apWuDTAZVONBtVDTdRlX+t/5Eze3fWBUCKg8w7iS367NEdlrD8tQLA4wzL5Odyhe8W/LuMsJGj2+Q6ZbWXrXUU+nB889N4PnnJvDzz7/w1ddbGfzYUIxGA0+NepLw8GesFstWruwOZAdUfR5H1dWBA5N+qvRk1gAAIABJREFUopgutHXvQsioLqiKxrJcYyTEU14bSPUjk8HVwuVWXIo2EZfkzPD3O9K2wDzAeNCOcR/3qNSdVYJ6y2p2OzzBuD7OpgHGFevZXaCg29jnmPzCRPb9uJ9eD/djwby59OkTYLUq1m8/A8vcddedHDmiYUBQPwYE9efrlK0EBATSvXvXiq6kq0K9F6ozzXpLMzpAQQHuE1/DM3c90xL+wMWhGE3JICInykQgXQEh1dvZs2dFN9+HbBTte/FSz27Cf8ZeYRBCiKPrxJOdeorRG/IrPccgcjYsEounjREvfWMw/dPxQyLvuEEYDiwSgyPShaHSs1+IeEm8PifGajU8otGKwY8+brXyyn31daro3LWn+G7X91UeS8/4Vrw07RVxf6duYnrUDLFz53dWj29No8dOEHv27K338QaD4aL3UAiDMBhqeLIk1UGzm0109bJkY3kF3sOm0suhDZ3KuwtcOqByUVB0SIt71w4XDTAuiVuISnU3QQNC+OOPP6+4hvXeA7kWL770MhkZ37Evexe9evao8niA/0MsXPAmBw/s4eGHTVNVfXsE8PrcGPbu/dGqdbGGK121VKFQXDJIrEAhLwgkK5DJ4JpTgLqgPapKs55O5y5lfnZ/okZVXXdp+LDH+fjj95j0/BTWrd9wRZGtubnNzp278Oncg/79H2HB/DcsOmbQQNNU1bQdX3Gvyoul739An74DWfh2HL/kqa1SryvVskUL/pNLWEtNkEwG1xrjYXIVF+6PKEpbzIwtHYiaO5iaZsX+z92dr77YiFb7xxUteGetAeSZr81lw2cb2bvnOwL7963z8TfeeCPDhg1h1YoPSFy3mltuuZnZs99k8GOPsyz+I6tcBdWX3M9AaqpkMriG5KctZc7MNWRrtvH+Fi3kLmbkrEzKSnYSN3Mpu4pqP/6Vl6dd0YJ3rVq24vwVTC3Nzt5Hz16P0NnHm/fejaV16yuf33DLLTcT9vRINnz6CUuXxPLff4JJz08hdMTTrFmzjuPHL9Mo1iZ3OpOaqBZC/kypt9LSUvx7B7In69vGropVnTt3jgnhk7nvvnuYOuUFi487ceIkIUNC+TZjW51jxsx7m8O//kZc7AIc2zb86k8//5LHV1+nkpKyDaXSw7xBTyA33HBDg8adED6Zp59+gp4PVh3/kKTGJK8MpCrqu+Bdq1YtOV/HbS9//iWPvv0Hc/vtt7FyebxNEgHAfffew/SXppD+TQqTwp/ll1/yCOgzgOdemMLXKVsbLK68MJCaKnmfgVSjsWOepueDfgwZOpIXp77AY48OqvX5db0Decm7y9i9O5OENctxc3O90urWW7duXejWrQuvzXqFnTt38dXXqURFz2RAUH8GDQzC37+X1WLJMQOpqZJXBlKtKi94FxU9s9bnWjqArNX+SfD/hWJvr+DTxDWNmggu5e/fiwXz3+DggT0EBDzEhs820t3Pn9fnvEV29r4rLr9Fy5aIBroxT5KuhEwGkkXeenM2Dz/ck14P9+XnX/KqfY4ldyAvX7GG5ydPYfHbMQ22RpK1DBwQyHvvxpKRlsK9997D+/Ef0fuRASx8O67GNrgc2U0kNVWym0iy2KCBQfR8sAcTwl+gb9/ePPvMmIseb9WqFedruOns2LHjREyZRvduXfjy8422qK7V3HDDDQwb+n8MG/p/HD9exNcpW5kzJ4Z/zv7DgKBABg0MQqmsuqpqda5soTpJajjyykCqEycnRz5NXMPZs6WMHjMeg+HCvsY1JYP1iUmMeDKMV6KnMSXS8tlJTdHNN7sQ9vRIPk1cw9IlsbRs2YLnJ09heOhTrF6zlmPHjtd6vBwzkJoqmQykeomYPInnn59Ir4f7kZaWAZi+6ICKL7t//vmHZ56dxJEjGtJ2fE3Hjvc1VnUbhFJ5OxPDn+XLzzcye/arHDt2nBFPhjF67ASSPtvMP//8U+UYOWYgNVUyGUj11rXLA+zd8x3Jn3/FnLnzAGjduhXnzp3n8y++ok/fQTzzzBhefWV6I9e04d17j4ppL0WStuNrnp80gV9+yaNP30E898IUvvo6teJ5csxAaqrkTWdX4Fq96aw+NiRtZMWKTzh2/Dg9evjh2NaBt96c3djVshmN9g+Ki4qrdAEdOHCQH37IJmtPNt27deXkyZP079+XLp19ai2vVatWtG9/a5OaaSVd22QyuMQ///zD95k/kJ9fwNmzZ2t97r///suq1QlVBlKrc8MNN+LhcRu9Ax62VlVtImFtIslbvuTPP/+itLTUauUqFArc3dvzSJ8AJr8w0Wrl2tqOHenMfG0OTk5OuN5yC+aesmqdOHGSEydOcPvtt2FnZ1druefOn+evv/JxaHMjS5YswlPpYeWaS9LFZDKoRKPREjk1Cvf2t3LnnZ5cf/31lz3GaCxDoaj9gw3wzz9n+fW33zl96jSL3o7B3b3qCqJNzfgJz+Po5MhTo57gzjs8ufHGG61WtsFg5IhGw6ZNn/Pjj/tZm7DCovZuShI//Ywf9+fwSvQ0nJwcGyRGXt4h3nhzPq/PnsFdd93RIDEkCZCb25QrKioSoSOeFn/++VeDxjl06LAIHfG0KCk506BxrtTHy1eJaVGv2iRW3DtLxezX37RJLGv59dffxfDQp2wS68gRjRg6fKRNYknNlxxANouZt4jx48dy223/a9A4HTrczdCh/0fcO+81aJwrlbp1O8+MDbNJrHFjR7N12w6bxLKW9Ixv6dfvEZvE8vRUYq9Q8Otvv9skntQ8yWRg9n1mFn16+9skVg+/7uz7sentwlWZWn2YDh3utkmsNm1u5MYbb0T39zGbxLOG3377ndtuc7dZvNtuv41ff/3NZvGk5kcmA+D06dO0bNnKZvHc3dvz229HbBavPi43wGltbdrcyJmSMzaNeSX+OXsWexvuN3nD9TdQUlJis3hS8yOTAfDvuXO0bmW7ZCBJktTUyGQgSZIkyWQgSZIkyWQgSZIkIZOBJEmShEwGkiRJEjIZSFegaMtkuvSZxvKEVxnapxddeg1jcsJhjI1dsaZCs5qh3YYxI2Ep4cF96NKtD0Onf4lGNpDUBMlkUAe7pvehy8SlbJg5loBuvegyIJzY7GY897usjLLinbyfBAMinmNA+0LSF75OgqaxK9ZUlGAs+4Mt8Zm4DJvKpJ4OHNo6jzmpxY1dMUmqQiYDixkpKyuj7Ps1LC/qzKTpg1GV/MiKWe9xoLGr1qjaETz3TcYFP8H0sZ2x4w+yc5txgqyG19g3eWPUYMZNG0Enyji0+3BjV0mSqpDJoK7s/ImKe57hw6YwsXcbKDhMbn5jV6oxKSi/D1dhpwDKGrMyTVP53dwKO+zA1I1WlMn8ccMI6BPMyAWZFDVi9axGs43YBeZuMONhkhcsJS0foIQDSYtZvru6K6ISshMW80m26bGi3auZn3SQ0wD5GcQu+BK17FazCZkM6swOOwWAAgc700e7rAzAiCa10oncbBSSlvAl6nwtW5L2UYYHXl4OnN69mJED+tClVzDhzXwcQZO0hjRNAQc+/4pcQNXJA4xt6DMjga3ze1CUtJq0ayAbGA9tJyFpGweMQMlBtiRtIkVrBIrZm7SJT9K01RxVyK6kTSSkFwCgSVvPhqQfKTaXl5T0JfJC0zZaN3YFrjpl+0hIOIhnz2KSvj8Bzj3wag/qFdOYn3qYXLs2jBvWsbFraUN2cHApwwaeAOxo/9hzPKUCNP1449PnOB0/ilFrv0Q9airejV3VRqIoy2RGyCZKADuvEUQ+1h7atqcbcLrAiNHBmfYOjV3LK6cIWsi+oPK/Pc7K7MfNf1YybsMuxlV7VAembNnFFPPfus1MZV/5Q33e5PvsBquudAmZDOpBs3YiQQvLgHb0nvMsvRTA2CW8034yvRMau3a25kyf+QmMc9BShBKVp/lbzbMjbSkhragEu/YdsN36nk1P+5HvsKJ3GZqSNniq2tMWgAKSp08jLv0PFL1n4dnIdZQkmQzqyq4LM5On4q4pBhcPPF1st3Jlk2Nnhx122Nk54OLZEZdLHi5Km8f879sT+XG/Ko81Dw4o7OxQYEdbd+XFV0ZGB/osWEtI0UbGDJjD/N3+LOnTjM8lqdHJZFAHdnZ2oLBDoXDGU+Xc2NVpdC7BS9gXXP1jxtylhM86TM/YFTylaqZfcp5hfJZd/QZBxkObiJi5CU0JuPR8jsiuzbSNpCZDJgOLKei1II2DNTyqXhHOtCQtCuNhxkQqiI8b3Ky7RtSpOymgmKKoYaQpOhD5yRJCmuflQbUUncJYucU2O8lJkiVkMrAS1dh4vhjb2LWwnrKyK5si6j09ie+nW/78//4TtGhxRSFt6rrrWvPvv+dsFq/s3zJat5YfV6nhyKmlwI033MjZ0rM2i2cwGLG3b9rdArfccjPHjh23Wby//z5G+/btbRbvSnkqlRzR2O5W699/O8Kdd95ps3hS8yOTAWBvr8DZ2ZlTp07ZJN4vv+Q1+Q/2Pfeo2L79G5vEys8voP2tblx/vb1N4lmDr29XPtuYzJkz/zR4rP37D6DV/oFXh7saPJbUfMlkYNa/3yNs+fwrm8RauCiOoMB+NolVX1Mjn+f9ZR/x/fdZDR5r3vxFREVNbfA41uTbvRu+3bvy/AtT0Wj/aLA4O3akM/WlaObMmcn111/fYHEkqYUQQjR2JZqKZ8c/x2OPDuLRRwc2SPl79/7IotglODo6Ev/+Ow0Sw5qyfsjm1RmzcXdvz7333kNbhzZWj5GZtYfQ4UMZPCjo8k9ugj76eBUffbyC+++7ly5dHqCFlQY+SktL+SZtJ2XGMl577RUe6vWgVcqVpJrIZHCJj5evZtPmLbR1cLC428JoNKJQ1D4G8Ndf+bRq3YpxY8MYPmyINapqE6WlpWRm7eHPP49y9qxlXSLFxcU4O9c+9dbe3h539/Z079aVm25yskZVG80///zDnux9qNWHEeI/i47Jzy/A3b3mMRKFQkGXzg/g49PJWtWUpFrJZFCD338/wokTJ61W3s233IzS43arlSdJkmRNMhlIkiRJcgBZkiRJkslAkiRJQiYDSZIkCZkMJEmSJGQykCRJkpDJQJIkSUImA0mSJAmZDCRJkiRkMpAkSZKQyUCSJElCJgNJkiQJmQwkSZIkZDKQJEmSkMlAkiRJQiYDSZIkCZkMJEmSJGQykCRJkpDJQJIkSUImA0mSJAmZDCRJkiRkMpAkSZKQyUCSJEmiOSYDgx69obErYQ0G9E3kheh1eppGTSRJqq/WjV0B69CROi+a+Awteuyxx4DBABgMpi8peyWj4xMJV6YyWjmA1YZAVqpTGe3WMLXR5ySTqFYyeoQP9hYeY8iKJ3xeMlo92NtXqr+9PU5uPoRERhPuV15hHYkhKp7YYk/oZjWJIU4N80IsoI3zQzXlB9wiMlHH+Vn8ei8rZxWjZydWtAf2bqhGzyMuRGl+3NxeOsBNxejZcYxQWSu4hXSpRIfHkaMH7MEAuAVEEh8dROO9I5Xos1gVPZv4DDV67DHoDdgrfQiKnEeczRtLavLENWR/lJcABN4RIiUvT+Tl5Ym8/ekixt9XxOQJIUpTRJgrAoW/WKaxZuRSUZiXLlbGhIlAL0cBCEXwZlFa12I0scIXBHiIiMxSUXpSI1IifIUCBArfSnUuFCsDHQU4itDNJ635QmpxUuRtjhGhvoEiNu/Cv+bFmurnMSH9wustTBfLIgKF94SUurfBRSFXCn8wvc6UakoqXCb8HUPF5isKcqX2iygvBCC8Yyo1TKlGpMROEP7+USKzMapVmi4ivBQCj1CxWVNaUafNE7yFx4RKNbLWe2UpW8eTLHZNdRM5uZl/l9qr8FGpUKlUqHwCGBEZjp8bYB/EKrUGjS6VcKUVA2vjGRE0myynEYz2M/0mtHdyqvuvZCcn8y9Ke+zt7bF3UhIUPRo/AKOWHG35E90YnapFo9Ha8KpATXzky3z6gwGnSldUqsgMtJpC1PEBFa9XnzqPie9sRW9fjzaozN4JJwWAPU5O1ZTk5ISTkxPVPWQ7TlScdpUroksmesoH7NQ7NcpVgj55HvGHjHiNiCZEWV5BJSHhQfgoL9TIau+VpfWycTzJctdUMqiWwYBbyGgCys9/e3v0WVmoL+nk1qkzSE5cRfyqRDLU+rrFUEaSoc0gPjwIlfmbwb7Kma5HV58+fp0aHYBHECE+lR+wB10WWdpLoqgzyMjRAzpykhNZlZhK1ZdjQJeVSuKqVSSmqqn6sI6c1Cy0gC4rmcQsHaYEBSjsL3lt9tijJSNHd+Ff7EFRXsdLi9ZmkbxqFYnJWWgv1xz1+LYw6HJITVxFfHw8q5Kz0F0So9b41b7uurCv+jd7+6ovw6AlI3EVqxJTyapaQbIyctBhQJuRyKpViaSWv4H6HJJXxbMqMeOybafX6TAC2oxUcio/12ceydEXuohqfK9qbAs96owMU9dYRTA1GRk5Vc+j8vdiVTIZ5grXGE+vJSs1i8otbtBmkXrJe2DQ5ZCaocaAnpzkRDK0Fz/f4nNLqqqxL02sSRPrbeom8l0mCiv+LVhEZAohRJ5YFuorXBUI8BfLCiuOEutDPYTC1V9ELFsmogI9BDgKD29f4esbKlZq6laH8q6qiy7FRZ6I9VWYun/Sa7k4PrlSBIIAVxEcu16sXxYlgr29hG9YrEivqG+pyIwNFN6OCFCI4M3mV7F5gvD3UAhAeIVGiQnepu4qQODoK6Iyzd1JJ9NFlL+X8PDyMLcFwjFwpdAIIURppogN9haOIFAEiphlwcIVhGPYVpG3Pkx4KTC3jbfwDl0p1ClRwt/cLeY6Id1UfmG6iPF3NXWVuXoJb29fEZUphBCFIj3KX3h4BYuImAjh74rANVAsq9SzUtVmEawwtceE6vpaSteLYI8JwhxZFK4PFR6O3iIsdr1YvzJGhHq5itCU8ifXEr/G151eTdBLaUSst6kdfctPqlKN2Bzhay7PVXh5e4tAc9+aZnOE8PXwFqFRUWKCr6NA4SFC1xcKcTJFRAV6mY5x9BdhYeb6gEDhJcJio4S/q6LiPXUMXi9q6yAszZwgPCrefy/hHxohYlemi7zKB1X3XmXU1BYbxeYJ/sJDgQAvEbVfCFG4WUT4e5i6MT0ixP6Kgk+KzNhg4eXhLfwDfYWHI0IRulmUVhdvW3ql1x0m0oUQJ9NjKrpbHcPMb2DeShHq62qK5RshloV5CQUKEby+tPb3VrLYtZkMzB9AX28v4arwMCcDIYTYLyI8Lk4GJzcHC0cQXlHmU7lwmamf2jFUrMzT1PqBq05FMoio/O2VaY5bQ993uYpk4Ch8w6JExIRg4evhKjy8/EVYbHpFghNCiJQwx4uSgen1+5o+QL5RIr2wVJQWZorYQHNS8I01feEXbhaxK82fEs0y4a9AgK+I1ZSXkm4aV0EhvMNixcqVUWLCshxRuH+lCHU1tV3M/jyRV2hqmdL1gUJRORmczBPpUaZ6eIRtFnl5GnGyVAjNMn+hwFGEmV//yZWm4xxDaxtbqUsyyBMx3pVepxDi5OYoEbu//KVeLn51r9uSb5PqkkGhyNs8QXiZx6/S8/KE5qQQIi9GeCsQHhHllTKPEXlEmMYVSteLQAUCvEVEeqEQpXki1t+UABz9Y8X+k0KUZkYJbxAogi8zVnJSZMYEViT8iv8UHiJ4WZ7pNdfwXtXcFoVimX+lZCDEhc9LRTI4KdIjvISi0rhcaUqY8I/Jqzleqfl9NicDIYQo3Rxsen/CKrK5EPujTG2q8BLBMSvFypgwEZNZ33NLutQ1MpvoEj6zycgKxw1QzwsivtJDl3bf6NRaTgHK8v5eJzdTP7WTGyqV0kr9vX7E5eQxQuuEj48lfR9uBETOY54PoF1FkM8YVk8JQmuvJSPczfw67OGSCZ325hfnFjKaADd7wI/IeeHEb53PIXUOWkDpFkLkaAA9Wr09bm7AH5XLMXdrKAKIjo9khD2MBqDU1DeusEepUqGyrwh6cdWdVPiozCMfbkpUKiWgIzFxJ0Y80KtTSTaAQW3AHjil1aIDlBa0Su3M9f4hGj+fVAL8AggaEU64D4CO1MvGv/R1G1DFRxIeXlM8JSGzowmqbkaavencMXUTKVGqVCgBdXwiB4zgpc8hOVkLBq3p+To1WgP4lXcpufoREuAGuBESomLKzgO4BQXh4wT4hRDgMZ8Df5inSNd4OjnhF52KLjyH1OREEhNTSc04wN/GP9gSOZr4oCwildW9V5Xasso5oK8a7tL3X5/MvPhDGJUhBJiLsw+YTbzKDZzsa4hX9WXYV+1nhfJxBp9w4qJHo2Q0oCM+uqHPrebhmh8zUIXHE+lTy+NBQXgr4MCqeDJ0erTJiWQZHfGPDjcN3FqLkwo/H7e6d4MrgwhRARjJycipe1ylCjcANzfT/3UZzBvhh1IZRPQqtTmdVFcraw7v6dHrAXRoc9So1Wq0biHMW7me9FWjLfiwGjBUN4yj16Ov6JNXMjo+hkAP+PvAVj794GXG9FbhE5mBoU7xy1+3Ab1Wi7aW/+o4soReqzP/Pwu1Wo1aq2TEspVsTo0jqIbmrvqleGHMxlBbv7heZxovcfIhaPQ8VqXmoFOvJ9QVMOaQpbakxvU4B3Q6dEZz/SqKUaJSWvN8qjwOc6XnllTu2rwyqMxJWfsJ4TOP1GQdAaMzmD16NEqVH3GZcYzwq/yTT486R4+bzxVcKei15OicKn4Z1eHAipvk3JTKusfV6dChwHv0aFToSRwdxMtbVcTk5RCt0hKXNZ8tf9S9WEtc+K5yws38sp0CRhNt8Q0e5i8+4ynUai0EKS8uPycDtVuA+f01oCOIRG00aLPISJ5H5JQtHEpORh0XXY/4TgTNSyXIwpqaa1R7iUo34G8MbkFERoc06GwafXI4kU6JJIZUiqIMIcRHwadblSgvaYK6jbeWfwFz4V6ecm7mK2ttBlla8FFWX0K18QwXrnYMFk+2sODcqvdnr3m5pq4MLvxSMlzm5K70qD6V6PBEDAGRzJsdTXiIH256NRk55b/8DGSEq7jnAU/8oi34ZW6uxMW/2nKI9vPkgXtUjE61uGYA6JLnEX8AcA1lXuSFWSCG8gDV/DzUZWSgNf2J1Hnx6P3nsSpSBejQao2AHrVaTU5yPIlqU9TKbVe98i9mHTk5evR6813HFfWo9Ex7exSAXp2DVq9Db3AjYIQ/CozsnB3JqvLZMQYtObXO3PJjRJArAD/MHk10qtr0a9egR50Rz4jwDPzCR5iueNCSPDuOLAM4Kf0IiYwkyBUUKj/csCR+faefVDrXLuptM/961eWg1unR6w2ogoLwAk4lRxOZrDU/XY86R3tJW14oqOKPVb4ca6+vXq8jKzH5olk1BvUq4rOMOPpHmrvPqnuvaivbCTc3R+BvUuNXkZWTxaroeMo/FQYApyBG+CnA+AOzw+MvzDoylM8mqi6em6m70phBfHwWOVmJRMdlYOSS09tw4U73C/98uffW8s9es9fYgxbWUShSYkKFr+uFQTL/0Aix/qLxvzyxPiLQPMPCUXgHx4iUQmEaxLt0kM38n8I3RuwvLRXpEzwEKC4MMldDkxIjIiaEmmf5IHD0FsETIsSyzJNCiP0ixts0m2hCjbOJTor0KN+KGSSOHl7Cy8NRKBw9hG+oua5CCCFKxf6VE0wzJkA4+oaZYwhRuMy/0gwiD+Hh6iF8IzYLTemFYzOjvEwzMnAU/lGxYoKXaaDQK3iZ2F+6X6yc4C9cy9soNEKs3F9acaypHcwDi1H7RWF6rAj1NQ9Qu/qLCSv3mwbsNMuEf3k7uIaK9YVCCKER68O8Kl6fwtVVuLr6ioj0ywzRl+4XK8N8zXWq9J+jlwiOzaw0wG9qY4VXoJgQESUmBHoIV+8wsVlT8Q7VEr+2112Lk+kiJvRC3RQe/iI0Jt1cp/L33DTgOSH9pOm9WxZsnpGDwNFVuLp6CP/Y/aL0ZKaIDSt//12Ff8RmkZkeK4K9FOayA0XE5jxx4SY3R+EdGitqaj7NylDh7agQClcv4R8cKkKDfYWHo6vwDVsp9lc+psp7VXtblO6PEb4V57iviFofVXGjZGDEepEnhBCa9SLMq3zmk6Nw9fAQ/jGZtZwbQmhWBl5oR+8JYnOsaRAYV18RtnK/KNVsFhGB5nNX4SWCJ1R+7bW/t5f/7ElCCNFCCCFsknUamnnphooeX4Ohyhxvg8FwoQ/W/Dj6HOLDI0n1CSfczw17DOi1GcRHz2fr397m7hQDOq0eJ2Utff4VS1/UUAeDDq3eCaVbLZ0D5XWqKO/SOf3VvNZKf9bFB3DrxJ14RaSTOMIelD74VIlnQJeTg9ZehZ/K6UJM8/8vbSPDRW1oPhY3fHyU5mU/yutY+c+AXk2WWo+Tyo/KV+cGnZoctQ6clKjq0u1m0KFWa9HpDdjXeKwBnVqNVmfAXqlCpax6Y1NN8Wt/3bVUq/Jxl7aBQYc6R4veTYWfsnIjaMnJ0WLADaWPquKmtcplmf6M6Ry4tOxL3rNaamduDz04uaFUXYh1kUveq8u2hV5LjlqHffnzMY0uXNoWOnUOaj24KX0q7r+pLl5FbXVqcrQGlD4+uNmXl3vhdV/88TBUGU+p8dyy5LMnce0kg3rRsSpISTir0KWOuOjLJSPcjd6rVKzUZjTYGkbWVpEMYvJQV7qxSJIk6XKuqTGDejGAUXvpHZWprErV4zE6mpCrJBFApXGEJrKaqSRJV49mngzcGBEfT5h9IkEqH4JGjGb0iAB8fKLRhyeTFd9EVp+0gC4jjuhVpvmC2uTZRK7KqvPUR0mSmq9m3k10gUGnNfetKlFW09fc5Bn06Cv1KRtqWtxNkiSpGjIZSJIkSc29m0iSJEkCmQwkSZIkZDKQJEmSkMlAkiRJQiYDSZIkCZkMJEmSJGQykCRJkpDJQJIkSUImA0mSJAmZDCRJkiRkMpAkSZKQyUCSJElCJgNJkiQJmQwdYRr/AAAAhklEQVQkSZIkZDKQJEmSkMlAkiRJQiYDSZIkCZkMJEmSJGQykCRJkoDWjV2BZkevJStDjVNQEKqrfr96PdqsLNT2fgT5ODV2ZUwMOnIysjD4hODn1tiVuYroskjO0mFvbzopDQYDbn7lbagjKzkLnb099hgw2KsIClDRaKfvtfIZamKv4/8BR8UtqRVee8wAAAAASUVORK5CYII=)\n",
    "\n",
    "Reference:\n",
    "\n",
    "He, X., Gao, M., Kan, M.-Y., & Wang, D. (2017). BiRank: Towards Ranking on Bipartite Graphs (No. arXiv:1708.04396). arXiv. https://doi.org/10.48550/arXiv.1708.04396\n"
   ]
  },
  {
   "cell_type": "code",
   "execution_count": 189,
   "metadata": {
    "id": "RI97aCUs71Pl"
   },
   "outputs": [],
   "source": [
    "def compute_kb_inverse_sqrt(adj_matrix):\n",
    "    \"\"\" Compute the inverse square root of the row-sum diagonal matrix (K) \"\"\"\n",
    "    row_sums = np.sum(adj_matrix, axis=0)  # Sum of each user's ratings\n",
    "    return np.diag(1 / np.sqrt(row_sums))  # Inverse square root matrix\n",
    "\n",
    "def compute_kt_inverse_sqrt(adj_matrix):\n",
    "    \"\"\" Compute the inverse square root of the column-sum diagonal matrix (K_t) \"\"\"\n",
    "    col_sums = np.sum(adj_matrix, axis=1)  # Sum of each movie's ratings\n",
    "    return np.diag(1 / np.sqrt(col_sums))  # Inverse square root matrix"
   ]
  },
  {
   "cell_type": "code",
   "execution_count": 191,
   "metadata": {
    "id": "g9RpsdlearHr"
   },
   "outputs": [],
   "source": [
    "def biRank(adj_matrix, damping_factor = 0.85, max_iter = 100, tol=1e-6, verbose = True):\n",
    "  \"\"\"\n",
    "    A BiRank algorithm implementation for bipartite graph ranking.\n",
    "\n",
    "    Args:\n",
    "      adj_matrix: A numpy array representing bipartite graph (num_users, num_movies).\n",
    "      damping_factor: Damping factor\n",
    "      max_iter: Maximum number of iterations\n",
    "      tol: Tolerance for convergence\n",
    "\n",
    "    Returns:\n",
    "      A tuple of (user_ranks, movie_ranks)\n",
    "  \"\"\"\n",
    "  num_users, num_movies = adj_matrix.shape\n",
    "  print(num_users, num_movies)\n",
    "\n",
    "  # initialize the user and movie ranks unformly\n",
    "  user_ranks = np.ones((num_users, 1)) / num_users\n",
    "  movie_ranks = np.ones((num_movies, 1)) / num_movies\n",
    "\n",
    "  # personalization vectors might change with user or movie\n",
    "  user_vector = 1 / num_users\n",
    "  movie_vector = 1 / num_movies \n",
    "\n",
    "  # normalization diagonal matrices for the sum of rows and columns\n",
    "  kb_inv_sqrt = compute_kb_inverse_sqrt(adj_matrix)\n",
    "  kt_inv_sqrt = compute_kt_inverse_sqrt(adj_matrix)\n",
    "\n",
    "  user_mtr = kt_inv_sqrt @ adj_matrix @ kb_inv_sqrt\n",
    "  # movie_mtr = kb_inv_sqrt @ adj_matrix.T @ kt_inv_sqrt\n",
    "\n",
    "  for itr in range(max_iter):\n",
    "    if itr != 0 and itr % 10 == 0 and verbose:\n",
    "      print(f'Iteration: {itr}')\n",
    "    prev_user_ranks = user_ranks.copy()\n",
    "    prev_movie_ranks = movie_ranks.copy()\n",
    "\n",
    "    user_ranks = damping_factor * ( user_mtr @ movie_ranks) + (1 - damping_factor) * user_vector\n",
    "    movie_ranks = damping_factor * (user_mtr.T @ user_ranks) + (1 - damping_factor) * movie_vector\n",
    "\n",
    "    if np.linalg.norm(user_ranks - prev_user_ranks) < tol and np.linalg.norm(movie_ranks - prev_movie_ranks) < tol:\n",
    "      print(f\"Converged at iteration {itr + 1}\")\n",
    "      break\n",
    "\n",
    "  return user_ranks, movie_ranks"
   ]
  },
  {
   "cell_type": "code",
   "execution_count": 194,
   "metadata": {
    "id": "-UKPR4BuQzQj"
   },
   "outputs": [],
   "source": [
    "# split the data into train and test\n",
    "train_df, test_df = train_test_split(movie_ratings_df, test_size=0.2, random_state=42)"
   ]
  },
  {
   "cell_type": "code",
   "execution_count": 198,
   "metadata": {
    "colab": {
     "base_uri": "https://localhost:8080/"
    },
    "executionInfo": {
     "elapsed": 14,
     "status": "ok",
     "timestamp": 1734014431662,
     "user": {
      "displayName": "Anteneh Getachew Yitayal",
      "userId": "12980641551393977386"
     },
     "user_tz": -60
    },
    "id": "9NdNzJj86DGT",
    "outputId": "69aed888-2735-4dec-e1a7-b170a3fa7ce5"
   },
   "outputs": [
    {
     "data": {
      "text/plain": [
       "((80668, 5), (20168, 5))"
      ]
     },
     "execution_count": 198,
     "metadata": {},
     "output_type": "execute_result"
    }
   ],
   "source": [
    "train_df.shape, test_df.shape"
   ]
  },
  {
   "cell_type": "code",
   "execution_count": 199,
   "metadata": {
    "colab": {
     "base_uri": "https://localhost:8080/"
    },
    "executionInfo": {
     "elapsed": 455543,
     "status": "ok",
     "timestamp": 1734014887194,
     "user": {
      "displayName": "Anteneh Getachew Yitayal",
      "userId": "12980641551393977386"
     },
     "user_tz": -60
    },
    "id": "C0KX4XKWiqTC",
    "outputId": "630b7ec0-c777-4fbc-89ee-29da10362f91"
   },
   "outputs": [
    {
     "name": "stdout",
     "output_type": "stream",
     "text": [
      "610 8983\n",
      "Iteration: 10\n",
      "Iteration: 20\n",
      "Converged at iteration 27\n",
      "it takes 11.44106119076411 minutes\n"
     ]
    }
   ],
   "source": [
    "adjacency_matrix, user_to_index, movie_to_index = create_adjacency_matrix(train_df)\n",
    "\n",
    "# Reversing the mapping in a single step using zip and dict\n",
    "index_to_user = dict(zip(user_to_index.values(), user_to_index.keys()))\n",
    "index_to_movie = dict(zip(movie_to_index.values(), movie_to_index.keys()))\n",
    "\n",
    "start = time.time()\n",
    "user_ranks, movie_ranks = biRank(adj_matrix=adjacency_matrix)\n",
    "end = time.time()\n",
    "print(f\"it takes {(end - start) / 60 } minutes\")"
   ]
  },
  {
   "cell_type": "code",
   "execution_count": 200,
   "metadata": {
    "colab": {
     "base_uri": "https://localhost:8080/"
    },
    "executionInfo": {
     "elapsed": 16,
     "status": "ok",
     "timestamp": 1734014893706,
     "user": {
      "displayName": "Anteneh Getachew Yitayal",
      "userId": "12980641551393977386"
     },
     "user_tz": -60
    },
    "id": "dsAQ_-0cx2Fg",
    "outputId": "b2d34f1b-43f0-4059-b9a7-f23e4e3013c7"
   },
   "outputs": [
    {
     "data": {
      "text/plain": [
       "(610, 610, 8983)"
      ]
     },
     "execution_count": 200,
     "metadata": {},
     "output_type": "execute_result"
    }
   ],
   "source": [
    "len(adjacency_matrix), len(user_ranks), len(movie_ranks)"
   ]
  },
  {
   "cell_type": "code",
   "execution_count": 201,
   "metadata": {
    "colab": {
     "base_uri": "https://localhost:8080/"
    },
    "executionInfo": {
     "elapsed": 461,
     "status": "ok",
     "timestamp": 1734014897423,
     "user": {
      "displayName": "Anteneh Getachew Yitayal",
      "userId": "12980641551393977386"
     },
     "user_tz": -60
    },
    "id": "OkioJd09Xi05",
    "outputId": "3c7e7fef-0845-4727-d752-d7853af572c5"
   },
   "outputs": [
    {
     "data": {
      "text/plain": [
       "(610, 8983)"
      ]
     },
     "execution_count": 201,
     "metadata": {},
     "output_type": "execute_result"
    }
   ],
   "source": [
    "# double check the number of users and movies (unique)\n",
    "len(user_ranks), len(movie_ranks)"
   ]
  },
  {
   "cell_type": "code",
   "execution_count": 202,
   "metadata": {
    "id": "cdo3HpAsZPKS"
   },
   "outputs": [],
   "source": [
    "def generate_personalized_recommendations(adj_matrix, user_ranks, movie_ranks, top_n=10):\n",
    "  \"\"\"\n",
    "  Generates top-N recommendations for a given user.\n",
    "\n",
    "  Args:\n",
    "    adj_matrix: A numpy array mapping (user_id, movie_id) pairs to their ratings.\n",
    "    user_ranks: A numpy array mapping user idx to their ranks.\n",
    "    movie_ranks: A numpy array mapping movie idx to their ranks.\n",
    "    index_to_movie: A dictionary mapping movie indices to movie IDs.\n",
    "    top_n: The number of top recommendations to return.\n",
    "\n",
    "  Returns:\n",
    "    A numpy array of top-N recommended movie IDs.\n",
    "  \"\"\"\n",
    "  # weighted recommended movie'ranks for each user\n",
    "  weighted_ranks = np.outer(user_ranks, movie_ranks) * (1 + np.maximum(adj_matrix, 0))\n",
    "\n",
    "  # Get top-N movie indices for each user\n",
    "  top_movie_indices = np.argsort(weighted_ranks, axis=1)[:, ::-1][:, :top_n]\n",
    "\n",
    "  return top_movie_indices"
   ]
  },
  {
   "cell_type": "code",
   "execution_count": 43,
   "metadata": {
    "id": "E4CPKlphaJzk"
   },
   "outputs": [],
   "source": [
    "# def generate_new_personalized_recommendations(adj_matrix, movie_ranks, index_to_movie_mapper, index_to_user_mapper, top_n=20):\n",
    "#   \"\"\"\n",
    "#     Generate recommendation for each user based on movie ranks from biRank algorithm without considering already interacted movies\n",
    "\n",
    "#     Args:\n",
    "#       adj_matrix: adjacency matrix for user-movie interaction\n",
    "#       movie_ranks: movie ranks from biRank algorithm\n",
    "#       top_n: number of recommendations to generate\n",
    "\n",
    "#     Returns:\n",
    "#       A list of top_n recommended movies for each user\n",
    "#   \"\"\"\n",
    "\n",
    "#   num_users, num_movies = adj_matrix.shape\n",
    "\n",
    "#   sorted_movie_indices = np.argsort(-movie_ranks.flatten()) #decreasing orderd ranks\n",
    "#   recommendations = defaultdict(list)\n",
    "\n",
    "#   for user_idx in range(num_users):\n",
    "#     interacted_movies_idx = set(np.where(A[user_idx] != 0)[0])\n",
    "#     recommended_movies = [\n",
    "#           index_to_movie[midx]\n",
    "#           for midx in sorted_movie_indices\n",
    "#           if midx not in interacted_movies_idx\n",
    "#           ][:top_n]\n",
    "#     recommendations[index_to_movie_mapper[user_idx]] = recommended_movies\n",
    "\n",
    "#   return recommendations"
   ]
  },
  {
   "cell_type": "code",
   "execution_count": 204,
   "metadata": {
    "id": "wDRVGOFa7fZX"
   },
   "outputs": [],
   "source": [
    "def leave_one_out_evaluation(adj_matrix, user_ranks, movie_ranks, index_to_movie, top_n=10):\n",
    "    hits = 0\n",
    "    total_users = adj_matrix.shape[0]\n",
    "\n",
    "    # Get recommendations for all users\n",
    "    top_n_users_recs = generate_personalized_recommendations(\n",
    "            adjacency_matrix,\n",
    "            user_ranks, movie_ranks, top_n)\n",
    "\n",
    "    for user_index in range(total_users):\n",
    "        # Get all movies interacted by the user\n",
    "        interacted_movies_idx = np.where(adj_matrix[user_index] != 0)[0]\n",
    "\n",
    "        # If no interactions, skip this user\n",
    "        if len(interacted_movies_idx) < 1:\n",
    "            continue\n",
    "\n",
    "        # Select one movie to hide\n",
    "        hidden_movie_idx = interacted_movies_idx[0]  # e.g., first interaction\n",
    "\n",
    "        top_n_user_recs = top_n_users_recs[user_index]\n",
    "\n",
    "        # Check if the hidden movie is in the recommendations\n",
    "        if hidden_movie_idx in top_n_user_recs:\n",
    "            hits += 1\n",
    "\n",
    "    return hits / total_users\n"
   ]
  },
  {
   "cell_type": "code",
   "execution_count": 205,
   "metadata": {
    "id": "NAWqtDWp9Z-w"
   },
   "outputs": [],
   "source": [
    "def leave_one_out_evaluation_varying_top_n(\n",
    "    adj_matrix, user_ranks, movie_ranks, index_to_movie,\n",
    "    top_n_start=10, top_n_end=100\n",
    "    ):\n",
    "    \"\"\"\n",
    "    Perform leave-one-out evaluation for a range of top-N values.\n",
    "\n",
    "    Args:\n",
    "        adj_matrix: A numpy array representing the user-movie interaction matrix.\n",
    "        user_ranks: A numpy array containing the importance scores of users.\n",
    "        movie_ranks: A numpy array containing the importance scores of movies.\n",
    "        index_to_movie: A dictionary mapping movie indices to their IDs.\n",
    "        top_n_start: The starting value of N for the top-N recommendations to consider.\n",
    "        top_n_end: The ending value of N for the top-N recommendations to consider.\n",
    "\n",
    "    Returns:\n",
    "        A list of hit ratios for each top-N value in the specified range.\n",
    "    \"\"\"\n",
    "    hit_ratios_by_top_n = [\n",
    "        leave_one_out_evaluation(\n",
    "            adj_matrix, user_ranks, movie_ranks,\n",
    "            index_to_movie, top_n=num_top_movies\n",
    "        )\n",
    "        for num_top_movies in range(top_n_start, top_n_end)\n",
    "    ]\n",
    "\n",
    "    return hit_ratios_by_top_n"
   ]
  },
  {
   "cell_type": "code",
   "execution_count": 206,
   "metadata": {
    "id": "3llTcSCh_s9l"
   },
   "outputs": [],
   "source": [
    "top_n_movies_start, top_n_movies_end = 10, 100\n",
    "hit_ratio_by_varying_num_top_movies = leave_one_out_evaluation_varying_top_n(\n",
    "    adjacency_matrix, user_ranks, movie_ranks, index_to_movie, top_n_start=10, top_n_end=100\n",
    ")"
   ]
  },
  {
   "cell_type": "code",
   "execution_count": 207,
   "metadata": {
    "id": "vy30zvMz_PHr"
   },
   "outputs": [],
   "source": [
    "import matplotlib.pyplot as plt\n",
    "\n",
    "def plot_hit_ratios_vs_top_n(hit_ratios, top_n_start, top_n_end):\n",
    "    \"\"\"\n",
    "    Plot the hit ratio as a function of the number of top-N movies considered.\n",
    "\n",
    "    Args:\n",
    "        hit_ratios: A list of hit ratios corresponding to different top-N values.\n",
    "        top_n_start: The starting value of top-N considered.\n",
    "        top_n_end: The ending value of top-N considered.\n",
    "    \"\"\"\n",
    "    plt.figure(figsize=(8, 5))\n",
    "    plt.plot(range(top_n_start, top_n_end), hit_ratios, marker='o',\n",
    "             linestyle='-', color='b', label='Hit Ratio')\n",
    "    plt.gca().spines[['top', 'right']].set_visible(False)\n",
    "    plt.xlabel('Top-N Movies Considered in Leave-One-Out Evaluation')\n",
    "    plt.ylabel('Hit Ratio')\n",
    "    plt.title('Hit Ratio vs. Top-N Movies')\n",
    "    plt.grid(True, linestyle='--', alpha=0.6)\n",
    "    plt.legend()\n",
    "    plt.tight_layout()\n",
    "    plt.show()"
   ]
  },
  {
   "cell_type": "code",
   "execution_count": 208,
   "metadata": {
    "colab": {
     "base_uri": "https://localhost:8080/",
     "height": 507
    },
    "executionInfo": {
     "elapsed": 592,
     "status": "ok",
     "timestamp": 1734014910466,
     "user": {
      "displayName": "Anteneh Getachew Yitayal",
      "userId": "12980641551393977386"
     },
     "user_tz": -60
    },
    "id": "UInsl7LkU0q8",
    "outputId": "396c0c24-aef7-4be1-c9a3-304148c30fbc"
   },
   "outputs": [
    {
     "data": {
      "image/png": "[encoded data removed]",
      "text/plain": [
       "<Figure size 800x500 with 1 Axes>"
      ]
     },
     "metadata": {},
     "output_type": "display_data"
    }
   ],
   "source": [
    "plot_hit_ratios_vs_top_n(hit_ratio_by_varying_num_top_movies, top_n_movies_start, top_n_movies_end)"
   ]
  },
  {
   "cell_type": "code",
   "execution_count": 49,
   "metadata": {
    "id": "tLW9OUCScxW5"
   },
   "outputs": [],
   "source": [
    "def computation_time_evaluation(adj_matrix):\n",
    "  start = time.time()\n",
    "  biRank(adj_matrix=adjacency_matrix, verbose=False)\n",
    "  end = time.time()\n",
    "  return end - start"
   ]
  },
  {
   "cell_type": "code",
   "execution_count": null,
   "metadata": {
    "id": "s6IzUdHQAnx0"
   },
   "outputs": [],
   "source": [
    "def memory_allocation_evaluation(adj_matrix):\n",
    "  pass\n",
    "  # will work on\n",
    "  # start = time.time()\n",
    "  # biRank(adj_matrix=adjacency_matrix, verbose=False)\n",
    "  # end = time.time()\n",
    "  # return end - start"
   ]
  },
  {
   "cell_type": "code",
   "execution_count": 53,
   "metadata": {
    "id": "YQ-FE3bfdVBy"
   },
   "outputs": [],
   "source": [
    "# will work on it\n",
    "# computation_time_evaluation(adjacency_matrix)"
   ]
  },
  {
   "cell_type": "code",
   "execution_count": 209,
   "metadata": {
    "id": "vc-aHqOVXzBh"
   },
   "outputs": [],
   "source": [
    "top_n_rec = 10\n",
    "top_n_users_recs = generate_personalized_recommendations(\n",
    "            adjacency_matrix,\n",
    "            user_ranks, movie_ranks, top_n_rec)"
   ]
  },
  {
   "cell_type": "code",
   "execution_count": 211,
   "metadata": {},
   "outputs": [
    {
     "data": {
      "text/plain": [
       "array([[1883,  307,  220, ...,  388,  870,   43],\n",
       "       [ 272, 6314, 1244, ..., 7754, 6815, 7277],\n",
       "       [2669, 1651,  946, ...,  252, 1521,  497],\n",
       "       ...,\n",
       "       [ 252,  272, 2158, ..., 3498,  307,   43],\n",
       "       [ 272,  307,  252, ...,  407,    0,    9],\n",
       "       [ 252, 1883,  497, ...,  872, 3498,  870]], shape=(610, 10))"
      ]
     },
     "execution_count": 211,
     "metadata": {},
     "output_type": "execute_result"
    }
   ],
   "source": [
    "top_n_users_recs"
   ]
  },
  {
   "cell_type": "code",
   "execution_count": 218,
   "metadata": {},
   "outputs": [
    {
     "data": {
      "text/plain": [
       "67037    77866\n",
       "42175      474\n",
       "93850     4351\n",
       "6187      2987\n",
       "12229     1610\n",
       "         ...  \n",
       "70524      370\n",
       "56528     4226\n",
       "84735      356\n",
       "24735     1982\n",
       "49912    59315\n",
       "Name: movieId, Length: 2950, dtype: int64"
      ]
     },
     "execution_count": 218,
     "metadata": {},
     "output_type": "execute_result"
    }
   ],
   "source": [
    "test_df.groupby(\"userId\")['movieId'].head()"
   ]
  },
  {
   "cell_type": "code",
   "execution_count": 210,
   "metadata": {},
   "outputs": [
    {
     "data": {
      "text/html": [
       "<div>\n",
       "<style scoped>\n",
       "    .dataframe tbody tr th:only-of-type {\n",
       "        vertical-align: middle;\n",
       "    }\n",
       "\n",
       "    .dataframe tbody tr th {\n",
       "        vertical-align: top;\n",
       "    }\n",
       "\n",
       "    .dataframe thead th {\n",
       "        text-align: right;\n",
       "    }\n",
       "</style>\n",
       "<table border=\"1\" class=\"dataframe\">\n",
       "  <thead>\n",
       "    <tr style=\"text-align: right;\">\n",
       "      <th></th>\n",
       "      <th>userId</th>\n",
       "      <th>movieId</th>\n",
       "      <th>rating</th>\n",
       "      <th>title</th>\n",
       "      <th>genres</th>\n",
       "    </tr>\n",
       "  </thead>\n",
       "  <tbody>\n",
       "    <tr>\n",
       "      <th>67037</th>\n",
       "      <td>432</td>\n",
       "      <td>77866</td>\n",
       "      <td>4.5</td>\n",
       "      <td>Robin Hood (2010)</td>\n",
       "      <td>Action|Adventure|Drama|Romance|War</td>\n",
       "    </tr>\n",
       "    <tr>\n",
       "      <th>42175</th>\n",
       "      <td>288</td>\n",
       "      <td>474</td>\n",
       "      <td>3.0</td>\n",
       "      <td>In the Line of Fire (1993)</td>\n",
       "      <td>Action|Thriller</td>\n",
       "    </tr>\n",
       "    <tr>\n",
       "      <th>93850</th>\n",
       "      <td>599</td>\n",
       "      <td>4351</td>\n",
       "      <td>3.0</td>\n",
       "      <td>Point Break (1991)</td>\n",
       "      <td>Action|Crime|Thriller</td>\n",
       "    </tr>\n",
       "    <tr>\n",
       "      <th>6187</th>\n",
       "      <td>42</td>\n",
       "      <td>2987</td>\n",
       "      <td>4.0</td>\n",
       "      <td>Who Framed Roger Rabbit? (1988)</td>\n",
       "      <td>Adventure|Animation|Children|Comedy|Crime|Fant...</td>\n",
       "    </tr>\n",
       "    <tr>\n",
       "      <th>12229</th>\n",
       "      <td>75</td>\n",
       "      <td>1610</td>\n",
       "      <td>4.0</td>\n",
       "      <td>Hunt for Red October, The (1990)</td>\n",
       "      <td>Action|Adventure|Thriller</td>\n",
       "    </tr>\n",
       "    <tr>\n",
       "      <th>...</th>\n",
       "      <td>...</td>\n",
       "      <td>...</td>\n",
       "      <td>...</td>\n",
       "      <td>...</td>\n",
       "      <td>...</td>\n",
       "    </tr>\n",
       "    <tr>\n",
       "      <th>57416</th>\n",
       "      <td>380</td>\n",
       "      <td>5048</td>\n",
       "      <td>2.0</td>\n",
       "      <td>Snow Dogs (2002)</td>\n",
       "      <td>Adventure|Children|Comedy</td>\n",
       "    </tr>\n",
       "    <tr>\n",
       "      <th>67290</th>\n",
       "      <td>434</td>\n",
       "      <td>54272</td>\n",
       "      <td>3.5</td>\n",
       "      <td>Simpsons Movie, The (2007)</td>\n",
       "      <td>Animation|Comedy</td>\n",
       "    </tr>\n",
       "    <tr>\n",
       "      <th>33423</th>\n",
       "      <td>226</td>\n",
       "      <td>5989</td>\n",
       "      <td>4.5</td>\n",
       "      <td>Catch Me If You Can (2002)</td>\n",
       "      <td>Crime|Drama</td>\n",
       "    </tr>\n",
       "    <tr>\n",
       "      <th>98552</th>\n",
       "      <td>607</td>\n",
       "      <td>1320</td>\n",
       "      <td>3.0</td>\n",
       "      <td>Alien³ (a.k.a. Alien 3) (1992)</td>\n",
       "      <td>Action|Horror|Sci-Fi|Thriller</td>\n",
       "    </tr>\n",
       "    <tr>\n",
       "      <th>87803</th>\n",
       "      <td>567</td>\n",
       "      <td>750</td>\n",
       "      <td>3.0</td>\n",
       "      <td>Dr. Strangelove or: How I Learned to Stop Worr...</td>\n",
       "      <td>Comedy|War</td>\n",
       "    </tr>\n",
       "  </tbody>\n",
       "</table>\n",
       "<p>20168 rows × 5 columns</p>\n",
       "</div>"
      ],
      "text/plain": [
       "       userId  movieId  rating  \\\n",
       "67037     432    77866     4.5   \n",
       "42175     288      474     3.0   \n",
       "93850     599     4351     3.0   \n",
       "6187       42     2987     4.0   \n",
       "12229      75     1610     4.0   \n",
       "...       ...      ...     ...   \n",
       "57416     380     5048     2.0   \n",
       "67290     434    54272     3.5   \n",
       "33423     226     5989     4.5   \n",
       "98552     607     1320     3.0   \n",
       "87803     567      750     3.0   \n",
       "\n",
       "                                                   title  \\\n",
       "67037                                  Robin Hood (2010)   \n",
       "42175                         In the Line of Fire (1993)   \n",
       "93850                                 Point Break (1991)   \n",
       "6187                     Who Framed Roger Rabbit? (1988)   \n",
       "12229                   Hunt for Red October, The (1990)   \n",
       "...                                                  ...   \n",
       "57416                                   Snow Dogs (2002)   \n",
       "67290                         Simpsons Movie, The (2007)   \n",
       "33423                         Catch Me If You Can (2002)   \n",
       "98552                     Alien³ (a.k.a. Alien 3) (1992)   \n",
       "87803  Dr. Strangelove or: How I Learned to Stop Worr...   \n",
       "\n",
       "                                                  genres  \n",
       "67037                 Action|Adventure|Drama|Romance|War  \n",
       "42175                                    Action|Thriller  \n",
       "93850                              Action|Crime|Thriller  \n",
       "6187   Adventure|Animation|Children|Comedy|Crime|Fant...  \n",
       "12229                          Action|Adventure|Thriller  \n",
       "...                                                  ...  \n",
       "57416                          Adventure|Children|Comedy  \n",
       "67290                                   Animation|Comedy  \n",
       "33423                                        Crime|Drama  \n",
       "98552                      Action|Horror|Sci-Fi|Thriller  \n",
       "87803                                         Comedy|War  \n",
       "\n",
       "[20168 rows x 5 columns]"
      ]
     },
     "execution_count": 210,
     "metadata": {},
     "output_type": "execute_result"
    }
   ],
   "source": [
    "test_df"
   ]
  },
  {
   "cell_type": "code",
   "execution_count": 55,
   "metadata": {
    "colab": {
     "base_uri": "https://localhost:8080/",
     "height": 395,
     "referenced_widgets": [
      "422a168965634a3abba361ef2f6675be",
      "0d8c57f3be714aea8fda92defff1fb6e",
      "a0dba1ac0dca4caebe15e867b47d521f",
      "d764c64ad642418ca76e3408417ba24d",
      "126853a1f3414c419379bbcb99214cba"
     ]
    },
    "executionInfo": {
     "elapsed": 254,
     "status": "ok",
     "timestamp": 1734014949289,
     "user": {
      "displayName": "Anteneh Getachew Yitayal",
      "userId": "12980641551393977386"
     },
     "user_tz": -60
    },
    "id": "ui4QEptf-SwI",
    "outputId": "72134be0-5673-42f4-c0bf-d262300d453c"
   },
   "outputs": [
    {
     "data": {
      "application/vnd.jupyter.widget-view+json": {
       "model_id": "169a17a37c444f86a2e30a5c43b95c9a",
       "version_major": 2,
       "version_minor": 0
      },
      "text/plain": [
       "Text(value='User id', description='User Id:')"
      ]
     },
     "metadata": {},
     "output_type": "display_data"
    },
    {
     "data": {
      "application/vnd.jupyter.widget-view+json": {
       "model_id": "bbab1ff3c6e74726bd8d50c685dc088e",
       "version_major": 2,
       "version_minor": 0
      },
      "text/plain": [
       "Output()"
      ]
     },
     "metadata": {},
     "output_type": "display_data"
    }
   ],
   "source": [
    "movie_input = widgets.Text(\n",
    "    value='User id',\n",
    "    description='User Id:',\n",
    "    disabled=False\n",
    ")\n",
    "movie_list = widgets.Output()\n",
    "\n",
    "def on_type(data):\n",
    "    with movie_list:\n",
    "        movie_list.clear_output()\n",
    "        user_id = data[\"new\"]\n",
    "        if len(user_id.strip()) > 0 and user_id.isnumeric() and ('top_n_users_recs' in globals()):\n",
    "            recommednded_movies_ids = [index_to_movie[movie_idx] for movie_idx in top_n_users_recs[user_to_index[int(user_id)]]]\n",
    "            recommendation_list  = movies_df[movies_df['movieId'].isin(recommednded_movies_ids)]\n",
    "            display(recommendation_list if len(recommendation_list) > 0 else \"User Id not exist\")\n",
    "\n",
    "movie_input.observe(on_type, names='value')\n",
    "\n",
    "\n",
    "display(movie_input, movie_list)"
   ]
  },
  {
   "cell_type": "code",
   "execution_count": null,
   "metadata": {},
   "outputs": [],
   "source": []
  },
  {
   "cell_type": "code",
   "execution_count": null,
   "metadata": {},
   "outputs": [],
   "source": []
  }
 ],
 "metadata": {
  "colab": {
   "authorship_tag": "ABX9TyNE0w6bZK1U+6xNTJ2NrHpB",
   "mount_file_id": "1Ge6fyXfYa6hid6o35npU7qJVFog2STzt",
   "provenance": []
  },
  "kernelspec": {
   "display_name": "Python 3 (ipykernel)",
   "language": "python",
   "name": "python3"
  },
  "language_info": {
   "codemirror_mode": {
    "name": "ipython",
    "version": 3
   },
   "file_extension": ".py",
   "mimetype": "text/x-python",
   "name": "python",
   "nbconvert_exporter": "python",
   "pygments_lexer": "ipython3",
   "version": "3.12.3"
  },
  "widgets": {
   "application/vnd.jupyter.widget-state+json": {
    "0d8c57f3be714aea8fda92defff1fb6e": {
     "model_module": "@jupyter-widgets/base",
     "model_module_version": "1.2.0",
     "model_name": "LayoutModel",
     "state": {
      "_model_module": "@jupyter-widgets/base",
      "_model_module_version": "1.2.0",
      "_model_name": "LayoutModel",
      "_view_count": null,
      "_view_module": "@jupyter-widgets/base",
      "_view_module_version": "1.2.0",
      "_view_name": "LayoutView",
      "align_content": null,
      "align_items": null,
      "align_self": null,
      "border": null,
      "bottom": null,
      "display": null,
      "flex": null,
      "flex_flow": null,
      "grid_area": null,
      "grid_auto_columns": null,
      "grid_auto_flow": null,
      "grid_auto_rows": null,
      "grid_column": null,
      "grid_gap": null,
      "grid_row": null,
      "grid_template_areas": null,
      "grid_template_columns": null,
      "grid_template_rows": null,
      "height": null,
      "justify_content": null,
      "justify_items": null,
      "left": null,
      "margin": null,
      "max_height": null,
      "max_width": null,
      "min_height": null,
      "min_width": null,
      "object_fit": null,
      "object_position": null,
      "order": null,
      "overflow": null,
      "overflow_x": null,
      "overflow_y": null,
      "padding": null,
      "right": null,
      "top": null,
      "visibility": null,
      "width": null
     }
    },
    "126853a1f3414c419379bbcb99214cba": {
     "model_module": "@jupyter-widgets/base",
     "model_module_version": "1.2.0",
     "model_name": "LayoutModel",
     "state": {
      "_model_module": "@jupyter-widgets/base",
      "_model_module_version": "1.2.0",
      "_model_name": "LayoutModel",
      "_view_count": null,
      "_view_module": "@jupyter-widgets/base",
      "_view_module_version": "1.2.0",
      "_view_name": "LayoutView",
      "align_content": null,
      "align_items": null,
      "align_self": null,
      "border": null,
      "bottom": null,
      "display": null,
      "flex": null,
      "flex_flow": null,
      "grid_area": null,
      "grid_auto_columns": null,
      "grid_auto_flow": null,
      "grid_auto_rows": null,
      "grid_column": null,
      "grid_gap": null,
      "grid_row": null,
      "grid_template_areas": null,
      "grid_template_columns": null,
      "grid_template_rows": null,
      "height": null,
      "justify_content": null,
      "justify_items": null,
      "left": null,
      "margin": null,
      "max_height": null,
      "max_width": null,
      "min_height": null,
      "min_width": null,
      "object_fit": null,
      "object_position": null,
      "order": null,
      "overflow": null,
      "overflow_x": null,
      "overflow_y": null,
      "padding": null,
      "right": null,
      "top": null,
      "visibility": null,
      "width": null
     }
    },
    "422a168965634a3abba361ef2f6675be": {
     "model_module": "@jupyter-widgets/controls",
     "model_module_version": "1.5.0",
     "model_name": "TextModel",
     "state": {
      "_dom_classes": [],
      "_model_module": "@jupyter-widgets/controls",
      "_model_module_version": "1.5.0",
      "_model_name": "TextModel",
      "_view_count": null,
      "_view_module": "@jupyter-widgets/controls",
      "_view_module_version": "1.5.0",
      "_view_name": "TextView",
      "continuous_update": true,
      "description": "User Id:",
      "description_tooltip": null,
      "disabled": false,
      "layout": "IPY_MODEL_0d8c57f3be714aea8fda92defff1fb6e",
      "placeholder": "​",
      "style": "IPY_MODEL_a0dba1ac0dca4caebe15e867b47d521f",
      "value": "12"
     }
    },
    "a0dba1ac0dca4caebe15e867b47d521f": {
     "model_module": "@jupyter-widgets/controls",
     "model_module_version": "1.5.0",
     "model_name": "DescriptionStyleModel",
     "state": {
      "_model_module": "@jupyter-widgets/controls",
      "_model_module_version": "1.5.0",
      "_model_name": "DescriptionStyleModel",
      "_view_count": null,
      "_view_module": "@jupyter-widgets/base",
      "_view_module_version": "1.2.0",
      "_view_name": "StyleView",
      "description_width": ""
     }
    },
    "d764c64ad642418ca76e3408417ba24d": {
     "model_module": "@jupyter-widgets/output",
     "model_module_version": "1.0.0",
     "model_name": "OutputModel",
     "state": {
      "_dom_classes": [],
      "_model_module": "@jupyter-widgets/output",
      "_model_module_version": "1.0.0",
      "_model_name": "OutputModel",
      "_view_count": null,
      "_view_module": "@jupyter-widgets/output",
      "_view_module_version": "1.0.0",
      "_view_name": "OutputView",
      "layout": "IPY_MODEL_126853a1f3414c419379bbcb99214cba",
      "msg_id": "",
      "outputs": [
       {
        "data": {
         "application/vnd.google.colaboratory.intrinsic+json": {
          "summary": "{\n  \"name\": \"display(movie_input, movie_list)\",\n  \"rows\": 10,\n  \"fields\": [\n    {\n      \"column\": \"movieId\",\n      \"properties\": {\n        \"dtype\": \"number\",\n        \"std\": 2575,\n        \"min\": 39,\n        \"max\": 8533,\n        \"num_unique_values\": 10,\n        \"samples\": [\n          1721,\n          168,\n          357\n        ],\n        \"semantic_type\": \"\",\n        \"description\": \"\"\n      }\n    },\n    {\n      \"column\": \"title\",\n      \"properties\": {\n        \"dtype\": \"string\",\n        \"num_unique_values\": 10,\n        \"samples\": [\n          \"Titanic (1997)\",\n          \"First Knight (1995)\",\n          \"Four Weddings and a Funeral (1994)\"\n        ],\n        \"semantic_type\": \"\",\n        \"description\": \"\"\n      }\n    },\n    {\n      \"column\": \"genres\",\n      \"properties\": {\n        \"dtype\": \"string\",\n        \"num_unique_values\": 7,\n        \"samples\": [\n          \"Comedy|Romance\",\n          \"Action|Drama|Romance\",\n          \"Drama|Romance|War\"\n        ],\n        \"semantic_type\": \"\",\n        \"description\": \"\"\n      }\n    }\n  ]\n}",
          "type": "dataframe"
         },
         "text/html": "\n  <div id=\"df-c33ece7f-534d-4b6d-87dd-97d84e2b3274\" class=\"colab-df-container\">\n    <div>\n<style scoped>\n    .dataframe tbody tr th:only-of-type {\n        vertical-align: middle;\n    }\n\n    .dataframe tbody tr th {\n        vertical-align: top;\n    }\n\n    .dataframe thead th {\n        text-align: right;\n    }\n</style>\n<table border=\"1\" class=\"dataframe\">\n  <thead>\n    <tr style=\"text-align: right;\">\n      <th></th>\n      <th>movieId</th>\n      <th>title</th>\n      <th>genres</th>\n    </tr>\n  </thead>\n  <tbody>\n    <tr>\n      <th>35</th>\n      <td>39</td>\n      <td>Clueless (1995)</td>\n      <td>Comedy|Romance</td>\n    </tr>\n    <tr>\n      <th>140</th>\n      <td>168</td>\n      <td>First Knight (1995)</td>\n      <td>Action|Drama|Romance</td>\n    </tr>\n    <tr>\n      <th>189</th>\n      <td>222</td>\n      <td>Circle of Friends (1995)</td>\n      <td>Drama|Romance</td>\n    </tr>\n    <tr>\n      <th>220</th>\n      <td>256</td>\n      <td>Junior (1994)</td>\n      <td>Comedy|Sci-Fi</td>\n    </tr>\n    <tr>\n      <th>225</th>\n      <td>261</td>\n      <td>Little Women (1994)</td>\n      <td>Drama</td>\n    </tr>\n    <tr>\n      <th>315</th>\n      <td>357</td>\n      <td>Four Weddings and a Funeral (1994)</td>\n      <td>Comedy|Romance</td>\n    </tr>\n    <tr>\n      <th>702</th>\n      <td>920</td>\n      <td>Gone with the Wind (1939)</td>\n      <td>Drama|Romance|War</td>\n    </tr>\n    <tr>\n      <th>964</th>\n      <td>1265</td>\n      <td>Groundhog Day (1993)</td>\n      <td>Comedy|Fantasy|Romance</td>\n    </tr>\n    <tr>\n      <th>1291</th>\n      <td>1721</td>\n      <td>Titanic (1997)</td>\n      <td>Drama|Romance</td>\n    </tr>\n    <tr>\n      <th>5227</th>\n      <td>8533</td>\n      <td>Notebook, The (2004)</td>\n      <td>Drama|Romance</td>\n    </tr>\n  </tbody>\n</table>\n</div>\n    <div class=\"colab-df-buttons\">\n\n  <div class=\"colab-df-container\">\n    <button class=\"colab-df-convert\" onclick=\"convertToInteractive('df-c33ece7f-534d-4b6d-87dd-97d84e2b3274')\"\n            title=\"Convert this dataframe to an interactive table.\"\n            style=\"display:none;\">\n\n  <svg xmlns=\"http://www.w3.org/2000/svg\" height=\"24px\" viewBox=\"0 -960 960 960\">\n    <path d=\"M120-120v-720h720v720H120Zm60-500h600v-160H180v160Zm220 220h160v-160H400v160Zm0 220h160v-160H400v160ZM180-400h160v-160H180v160Zm440 0h160v-160H620v160ZM180-180h160v-160H180v160Zm440 0h160v-160H620v160Z\"/>\n  </svg>\n    </button>\n\n  <style>\n    .colab-df-container {\n      display:flex;\n      gap: 12px;\n    }\n\n    .colab-df-convert {\n      background-color: #E8F0FE;\n      border: none;\n      border-radius: 50%;\n      cursor: pointer;\n      display: none;\n      fill: #1967D2;\n      height: 32px;\n      padding: 0 0 0 0;\n      width: 32px;\n    }\n\n    .colab-df-convert:hover {\n      background-color: #E2EBFA;\n      box-shadow: 0px 1px 2px rgba(60, 64, 67, 0.3), 0px 1px 3px 1px rgba(60, 64, 67, 0.15);\n      fill: #174EA6;\n    }\n\n    .colab-df-buttons div {\n      margin-bottom: 4px;\n    }\n\n    [theme=dark] .colab-df-convert {\n      background-color: #3B4455;\n      fill: #D2E3FC;\n    }\n\n    [theme=dark] .colab-df-convert:hover {\n      background-color: #434B5C;\n      box-shadow: 0px 1px 3px 1px rgba(0, 0, 0, 0.15);\n      filter: drop-shadow(0px 1px 2px rgba(0, 0, 0, 0.3));\n      fill: #FFFFFF;\n    }\n  </style>\n\n    <script>\n      const buttonEl =\n        document.querySelector('#df-c33ece7f-534d-4b6d-87dd-97d84e2b3274 button.colab-df-convert');\n      buttonEl.style.display =\n        google.colab.kernel.accessAllowed ? 'block' : 'none';\n\n      async function convertToInteractive(key) {\n        const element = document.querySelector('#df-c33ece7f-534d-4b6d-87dd-97d84e2b3274');\n        const dataTable =\n          await google.colab.kernel.invokeFunction('convertToInteractive',\n                                                    [key], {});\n        if (!dataTable) return;\n\n        const docLinkHtml = 'Like what you see? Visit the ' +\n          '<a target=\"_blank\" href=https://colab.research.google.com/notebooks/data_table.ipynb>data table notebook</a>'\n          + ' to learn more about interactive tables.';\n        element.innerHTML = '';\n        dataTable['output_type'] = 'display_data';\n        await google.colab.output.renderOutput(dataTable, element);\n        const docLink = document.createElement('div');\n        docLink.innerHTML = docLinkHtml;\n        element.appendChild(docLink);\n      }\n    </script>\n  </div>\n\n\n<div id=\"df-65f1e8cf-5247-4f67-85f3-7330647b968e\">\n  <button class=\"colab-df-quickchart\" onclick=\"quickchart('df-65f1e8cf-5247-4f67-85f3-7330647b968e')\"\n            title=\"Suggest charts\"\n            style=\"display:none;\">\n\n<svg xmlns=\"http://www.w3.org/2000/svg\" height=\"24px\"viewBox=\"0 0 24 24\"\n     width=\"24px\">\n    <g>\n        <path d=\"M19 3H5c-1.1 0-2 .9-2 2v14c0 1.1.9 2 2 2h14c1.1 0 2-.9 2-2V5c0-1.1-.9-2-2-2zM9 17H7v-7h2v7zm4 0h-2V7h2v10zm4 0h-2v-4h2v4z\"/>\n    </g>\n</svg>\n  </button>\n\n<style>\n  .colab-df-quickchart {\n      --bg-color: #E8F0FE;\n      --fill-color: #1967D2;\n      --hover-bg-color: #E2EBFA;\n      --hover-fill-color: #174EA6;\n      --disabled-fill-color: #AAA;\n      --disabled-bg-color: #DDD;\n  }\n\n  [theme=dark] .colab-df-quickchart {\n      --bg-color: #3B4455;\n      --fill-color: #D2E3FC;\n      --hover-bg-color: #434B5C;\n      --hover-fill-color: #FFFFFF;\n      --disabled-bg-color: #3B4455;\n      --disabled-fill-color: #666;\n  }\n\n  .colab-df-quickchart {\n    background-color: var(--bg-color);\n    border: none;\n    border-radius: 50%;\n    cursor: pointer;\n    display: none;\n    fill: var(--fill-color);\n    height: 32px;\n    padding: 0;\n    width: 32px;\n  }\n\n  .colab-df-quickchart:hover {\n    background-color: var(--hover-bg-color);\n    box-shadow: 0 1px 2px rgba(60, 64, 67, 0.3), 0 1px 3px 1px rgba(60, 64, 67, 0.15);\n    fill: var(--button-hover-fill-color);\n  }\n\n  .colab-df-quickchart-complete:disabled,\n  .colab-df-quickchart-complete:disabled:hover {\n    background-color: var(--disabled-bg-color);\n    fill: var(--disabled-fill-color);\n    box-shadow: none;\n  }\n\n  .colab-df-spinner {\n    border: 2px solid var(--fill-color);\n    border-color: transparent;\n    border-bottom-color: var(--fill-color);\n    animation:\n      spin 1s steps(1) infinite;\n  }\n\n  @keyframes spin {\n    0% {\n      border-color: transparent;\n      border-bottom-color: var(--fill-color);\n      border-left-color: var(--fill-color);\n    }\n    20% {\n      border-color: transparent;\n      border-left-color: var(--fill-color);\n      border-top-color: var(--fill-color);\n    }\n    30% {\n      border-color: transparent;\n      border-left-color: var(--fill-color);\n      border-top-color: var(--fill-color);\n      border-right-color: var(--fill-color);\n    }\n    40% {\n      border-color: transparent;\n      border-right-color: var(--fill-color);\n      border-top-color: var(--fill-color);\n    }\n    60% {\n      border-color: transparent;\n      border-right-color: var(--fill-color);\n    }\n    80% {\n      border-color: transparent;\n      border-right-color: var(--fill-color);\n      border-bottom-color: var(--fill-color);\n    }\n    90% {\n      border-color: transparent;\n      border-bottom-color: var(--fill-color);\n    }\n  }\n</style>\n\n  <script>\n    async function quickchart(key) {\n      const quickchartButtonEl =\n        document.querySelector('#' + key + ' button');\n      quickchartButtonEl.disabled = true;  // To prevent multiple clicks.\n      quickchartButtonEl.classList.add('colab-df-spinner');\n      try {\n        const charts = await google.colab.kernel.invokeFunction(\n            'suggestCharts', [key], {});\n      } catch (error) {\n        console.error('Error during call to suggestCharts:', error);\n      }\n      quickchartButtonEl.classList.remove('colab-df-spinner');\n      quickchartButtonEl.classList.add('colab-df-quickchart-complete');\n    }\n    (() => {\n      let quickchartButtonEl =\n        document.querySelector('#df-65f1e8cf-5247-4f67-85f3-7330647b968e button');\n      quickchartButtonEl.style.display =\n        google.colab.kernel.accessAllowed ? 'block' : 'none';\n    })();\n  </script>\n</div>\n\n    </div>\n  </div>\n",
         "text/plain": "      movieId                               title                  genres\n35         39                     Clueless (1995)          Comedy|Romance\n140       168                 First Knight (1995)    Action|Drama|Romance\n189       222            Circle of Friends (1995)           Drama|Romance\n220       256                       Junior (1994)           Comedy|Sci-Fi\n225       261                 Little Women (1994)                   Drama\n315       357  Four Weddings and a Funeral (1994)          Comedy|Romance\n702       920           Gone with the Wind (1939)       Drama|Romance|War\n964      1265                Groundhog Day (1993)  Comedy|Fantasy|Romance\n1291     1721                      Titanic (1997)           Drama|Romance\n5227     8533                Notebook, The (2004)           Drama|Romance"
        },
        "metadata": {},
        "output_type": "display_data"
       }
      ]
     }
    }
   }
  }
 },
 "nbformat": 4,
 "nbformat_minor": 4
}
