{
 "cells": [
  {
   "cell_type": "code",
   "execution_count": 1,
   "metadata": {
    "id": "0p4YLSJ37Gdx"
   },
   "outputs": [],
   "source": [
    "import os\n",
    "import numpy as np\n",
    "import pandas as pd\n",
    "import scipy.sparse as spa\n",
    "import scipy.linalg as la\n",
    "from zipfile import ZipFile\n",
    "import matplotlib.pyplot as plt\n",
    "import time\n",
    "from urllib.request import urlretrieve\n",
    "from collections import defaultdict\n",
    "import ipywidgets as widgets\n",
    "from IPython.display import display\n",
    "from sklearn.model_selection import train_test_split\n",
    "# from memory_profiler import profile\n",
    "# %load_ext memory_profiler"
   ]
  },
  {
   "cell_type": "code",
   "execution_count": 2,
   "metadata": {
    "id": "u4y0rGj87JzY"
   },
   "outputs": [
    {
     "name": "stdout",
     "output_type": "stream",
     "text": [
      "Data already downloaded\n"
     ]
    }
   ],
   "source": [
    "def download_data(url):\n",
    "  \"\"\"\n",
    "    Download data from url\n",
    "  \"\"\"\n",
    "  filename = os.path.basename(url)\n",
    "  if not os.path.exists(filename):\n",
    "    path, _ = urlretrieve(url, filename)\n",
    "    print(\"Data downloaded successfuly !\")\n",
    "  else:\n",
    "    print(\"Data already downloaded\")\n",
    "\n",
    "download_data('https://files.grouplens.org/datasets/movielens/ml-latest-small.zip')"
   ]
  },
  {
   "cell_type": "code",
   "execution_count": 3,
   "metadata": {
    "id": "TqGwqNkWJUme"
   },
   "outputs": [
    {
     "name": "stdout",
     "output_type": "stream",
     "text": [
      "Data already extracted\n"
     ]
    }
   ],
   "source": [
    "def extract_data(filename, extract_to_path):\n",
    "  \"\"\"\n",
    "    Extract data into project director\n",
    "  \"\"\"\n",
    "  file_dir = os.path.join(extract_to_path, os.path.basename(filename).split('.')[0])\n",
    "  # extract file into the project directory\n",
    "  if not os.path.exists(file_dir)and os.path.exists(filename):\n",
    "    with ZipFile(filename, 'r') as zf:\n",
    "      zf.extractall(path=extract_to_path)\n",
    "      print(f\"Extracted to {file_dir} directory\")\n",
    "  else:\n",
    "    print(\"Data already extracted\")\n",
    "\n",
    "extract_data(\"ml-latest-small.zip\", './data')"
   ]
  },
  {
   "cell_type": "markdown",
   "metadata": {
    "id": "NGLr45XRJYPU"
   },
   "source": [
    "**Date Load and EDA**"
   ]
  },
  {
   "cell_type": "markdown",
   "metadata": {
    "id": "KVlexheHJbH3"
   },
   "source": [
    "This dataset (ml-latest-small) describes 5-star rating and free-text tagging activity from [MovieLens](http://movielens.org), a movie recommendation service. It contains 100836 ratings and 3683 tag applications across 9742 movies. These data were created by 610 users between March 29, 1996 and September 24, 2018. This dataset was generated on September 26, 2018.\n"
   ]
  },
  {
   "cell_type": "code",
   "execution_count": 4,
   "metadata": {
    "id": "49Llna-SJesV"
   },
   "outputs": [],
   "source": [
    "# load data of movies and ratings\n",
    "data_dir = \"./data/ml-latest-small\"\n",
    "movies_df = pd.read_csv(os.path.join(data_dir, \"movies.csv\"))\n",
    "ratings_df = pd.read_csv(os.path.join(data_dir, \"ratings.csv\"))"
   ]
  },
  {
   "cell_type": "code",
   "execution_count": 5,
   "metadata": {
    "id": "I0bVEjT1JiP8"
   },
   "outputs": [
    {
     "data": {
      "text/html": [
       "<div>\n",
       "<style scoped>\n",
       "    .dataframe tbody tr th:only-of-type {\n",
       "        vertical-align: middle;\n",
       "    }\n",
       "\n",
       "    .dataframe tbody tr th {\n",
       "        vertical-align: top;\n",
       "    }\n",
       "\n",
       "    .dataframe thead th {\n",
       "        text-align: right;\n",
       "    }\n",
       "</style>\n",
       "<table border=\"1\" class=\"dataframe\">\n",
       "  <thead>\n",
       "    <tr style=\"text-align: right;\">\n",
       "      <th></th>\n",
       "      <th>userId</th>\n",
       "      <th>movieId</th>\n",
       "      <th>rating</th>\n",
       "      <th>timestamp</th>\n",
       "    </tr>\n",
       "  </thead>\n",
       "  <tbody>\n",
       "    <tr>\n",
       "      <th>0</th>\n",
       "      <td>1</td>\n",
       "      <td>1</td>\n",
       "      <td>4.0</td>\n",
       "      <td>964982703</td>\n",
       "    </tr>\n",
       "    <tr>\n",
       "      <th>1</th>\n",
       "      <td>1</td>\n",
       "      <td>3</td>\n",
       "      <td>4.0</td>\n",
       "      <td>964981247</td>\n",
       "    </tr>\n",
       "    <tr>\n",
       "      <th>2</th>\n",
       "      <td>1</td>\n",
       "      <td>6</td>\n",
       "      <td>4.0</td>\n",
       "      <td>964982224</td>\n",
       "    </tr>\n",
       "    <tr>\n",
       "      <th>3</th>\n",
       "      <td>1</td>\n",
       "      <td>47</td>\n",
       "      <td>5.0</td>\n",
       "      <td>964983815</td>\n",
       "    </tr>\n",
       "    <tr>\n",
       "      <th>4</th>\n",
       "      <td>1</td>\n",
       "      <td>50</td>\n",
       "      <td>5.0</td>\n",
       "      <td>964982931</td>\n",
       "    </tr>\n",
       "  </tbody>\n",
       "</table>\n",
       "</div>"
      ],
      "text/plain": [
       "   userId  movieId  rating  timestamp\n",
       "0       1        1     4.0  964982703\n",
       "1       1        3     4.0  964981247\n",
       "2       1        6     4.0  964982224\n",
       "3       1       47     5.0  964983815\n",
       "4       1       50     5.0  964982931"
      ]
     },
     "execution_count": 5,
     "metadata": {},
     "output_type": "execute_result"
    }
   ],
   "source": [
    "ratings_df.head()"
   ]
  },
  {
   "cell_type": "code",
   "execution_count": 6,
   "metadata": {
    "id": "AtsaRtpqJkLl"
   },
   "outputs": [
    {
     "data": {
      "text/html": [
       "<div>\n",
       "<style scoped>\n",
       "    .dataframe tbody tr th:only-of-type {\n",
       "        vertical-align: middle;\n",
       "    }\n",
       "\n",
       "    .dataframe tbody tr th {\n",
       "        vertical-align: top;\n",
       "    }\n",
       "\n",
       "    .dataframe thead th {\n",
       "        text-align: right;\n",
       "    }\n",
       "</style>\n",
       "<table border=\"1\" class=\"dataframe\">\n",
       "  <thead>\n",
       "    <tr style=\"text-align: right;\">\n",
       "      <th></th>\n",
       "      <th>movieId</th>\n",
       "      <th>title</th>\n",
       "      <th>genres</th>\n",
       "    </tr>\n",
       "  </thead>\n",
       "  <tbody>\n",
       "    <tr>\n",
       "      <th>0</th>\n",
       "      <td>1</td>\n",
       "      <td>Toy Story (1995)</td>\n",
       "      <td>Adventure|Animation|Children|Comedy|Fantasy</td>\n",
       "    </tr>\n",
       "    <tr>\n",
       "      <th>1</th>\n",
       "      <td>2</td>\n",
       "      <td>Jumanji (1995)</td>\n",
       "      <td>Adventure|Children|Fantasy</td>\n",
       "    </tr>\n",
       "    <tr>\n",
       "      <th>2</th>\n",
       "      <td>3</td>\n",
       "      <td>Grumpier Old Men (1995)</td>\n",
       "      <td>Comedy|Romance</td>\n",
       "    </tr>\n",
       "    <tr>\n",
       "      <th>3</th>\n",
       "      <td>4</td>\n",
       "      <td>Waiting to Exhale (1995)</td>\n",
       "      <td>Comedy|Drama|Romance</td>\n",
       "    </tr>\n",
       "    <tr>\n",
       "      <th>4</th>\n",
       "      <td>5</td>\n",
       "      <td>Father of the Bride Part II (1995)</td>\n",
       "      <td>Comedy</td>\n",
       "    </tr>\n",
       "  </tbody>\n",
       "</table>\n",
       "</div>"
      ],
      "text/plain": [
       "   movieId                               title  \\\n",
       "0        1                    Toy Story (1995)   \n",
       "1        2                      Jumanji (1995)   \n",
       "2        3             Grumpier Old Men (1995)   \n",
       "3        4            Waiting to Exhale (1995)   \n",
       "4        5  Father of the Bride Part II (1995)   \n",
       "\n",
       "                                        genres  \n",
       "0  Adventure|Animation|Children|Comedy|Fantasy  \n",
       "1                   Adventure|Children|Fantasy  \n",
       "2                               Comedy|Romance  \n",
       "3                         Comedy|Drama|Romance  \n",
       "4                                       Comedy  "
      ]
     },
     "execution_count": 6,
     "metadata": {},
     "output_type": "execute_result"
    }
   ],
   "source": [
    "movies_df.head()"
   ]
  },
  {
   "cell_type": "code",
   "execution_count": 7,
   "metadata": {
    "id": "rQ-9JanFJuAW"
   },
   "outputs": [],
   "source": [
    "# sort the ratings based on userId and movieId for later use\n",
    "ratings_df.sort_values(by=['userId', 'movieId']).reset_index(drop=True, inplace=True)\n",
    "#remove timestamp since not useful for this task\n",
    "ratings_df.drop(columns=['timestamp'], inplace=True)"
   ]
  },
  {
   "cell_type": "code",
   "execution_count": 8,
   "metadata": {
    "id": "4SN8glINJnDP"
   },
   "outputs": [
    {
     "name": "stdout",
     "output_type": "stream",
     "text": [
      "#ratings: 100836\n",
      "#movies: 9742\n"
     ]
    }
   ],
   "source": [
    "#total number of records\n",
    "print(f\"#ratings: {ratings_df.shape[0]}\")\n",
    "print(f\"#movies: {movies_df.shape[0]}\")"
   ]
  },
  {
   "cell_type": "code",
   "execution_count": 9,
   "metadata": {
    "id": "gDL-dTR9KBxt"
   },
   "outputs": [],
   "source": [
    "#merege the two dataframes with the movieId(common column)\n",
    "movie_ratings_df = pd.merge(ratings_df, movies_df, on=\"movieId\")"
   ]
  },
  {
   "cell_type": "code",
   "execution_count": 10,
   "metadata": {
    "id": "TIwTSqQGJ5dJ"
   },
   "outputs": [
    {
     "name": "stdout",
     "output_type": "stream",
     "text": [
      "# null values:\n",
      "userId     0\n",
      "movieId    0\n",
      "rating     0\n",
      "title      0\n",
      "genres     0\n",
      "dtype: int64\n",
      "\n",
      "duplicated movies: 0\n"
     ]
    }
   ],
   "source": [
    "#check null values\n",
    "print(f\"# null values:\\n{movie_ratings_df.isna().sum()}\\n\")\n",
    "\n",
    "#check if there is duplicated movies\n",
    "print(f\"duplicated movies: {movies_df['movieId'].duplicated().sum()}\")"
   ]
  },
  {
   "cell_type": "code",
   "execution_count": 11,
   "metadata": {
    "id": "1miyMFmnJ8yR"
   },
   "outputs": [
    {
     "name": "stdout",
     "output_type": "stream",
     "text": [
      "# unique users: 610\n",
      "# unique movies: 9742\n",
      "# unique movies with rating: 9724\n",
      "# movies not rated: 18\n"
     ]
    }
   ],
   "source": [
    "#number of unique users and movies\n",
    "print(f\"# unique users: {movie_ratings_df['userId'].nunique()}\")\n",
    "print(f\"# unique movies: {movies_df['movieId'].nunique()}\")\n",
    "print(f\"# unique movies with rating: {movie_ratings_df['movieId'].nunique()}\")\n",
    "print(f\"# movies not rated: {movies_df[~movies_df['movieId'].isin(ratings_df['movieId'].unique())].shape[0]}\")"
   ]
  },
  {
   "cell_type": "code",
   "execution_count": 12,
   "metadata": {
    "id": "2tMa8gEbKKme"
   },
   "outputs": [
    {
     "name": "stdout",
     "output_type": "stream",
     "text": [
      "# unrated movies: 18\n"
     ]
    },
    {
     "data": {
      "text/html": [
       "<div>\n",
       "<style scoped>\n",
       "    .dataframe tbody tr th:only-of-type {\n",
       "        vertical-align: middle;\n",
       "    }\n",
       "\n",
       "    .dataframe tbody tr th {\n",
       "        vertical-align: top;\n",
       "    }\n",
       "\n",
       "    .dataframe thead th {\n",
       "        text-align: right;\n",
       "    }\n",
       "</style>\n",
       "<table border=\"1\" class=\"dataframe\">\n",
       "  <thead>\n",
       "    <tr style=\"text-align: right;\">\n",
       "      <th></th>\n",
       "      <th>movieId</th>\n",
       "      <th>title</th>\n",
       "      <th>genres</th>\n",
       "    </tr>\n",
       "  </thead>\n",
       "  <tbody>\n",
       "    <tr>\n",
       "      <th>816</th>\n",
       "      <td>1076</td>\n",
       "      <td>Innocents, The (1961)</td>\n",
       "      <td>Drama|Horror|Thriller</td>\n",
       "    </tr>\n",
       "    <tr>\n",
       "      <th>2211</th>\n",
       "      <td>2939</td>\n",
       "      <td>Niagara (1953)</td>\n",
       "      <td>Drama|Thriller</td>\n",
       "    </tr>\n",
       "    <tr>\n",
       "      <th>2499</th>\n",
       "      <td>3338</td>\n",
       "      <td>For All Mankind (1989)</td>\n",
       "      <td>Documentary</td>\n",
       "    </tr>\n",
       "    <tr>\n",
       "      <th>2587</th>\n",
       "      <td>3456</td>\n",
       "      <td>Color of Paradise, The (Rang-e khoda) (1999)</td>\n",
       "      <td>Drama</td>\n",
       "    </tr>\n",
       "    <tr>\n",
       "      <th>3118</th>\n",
       "      <td>4194</td>\n",
       "      <td>I Know Where I'm Going! (1945)</td>\n",
       "      <td>Drama|Romance|War</td>\n",
       "    </tr>\n",
       "  </tbody>\n",
       "</table>\n",
       "</div>"
      ],
      "text/plain": [
       "      movieId                                         title  \\\n",
       "816      1076                         Innocents, The (1961)   \n",
       "2211     2939                                Niagara (1953)   \n",
       "2499     3338                        For All Mankind (1989)   \n",
       "2587     3456  Color of Paradise, The (Rang-e khoda) (1999)   \n",
       "3118     4194                I Know Where I'm Going! (1945)   \n",
       "\n",
       "                     genres  \n",
       "816   Drama|Horror|Thriller  \n",
       "2211         Drama|Thriller  \n",
       "2499            Documentary  \n",
       "2587                  Drama  \n",
       "3118      Drama|Romance|War  "
      ]
     },
     "execution_count": 12,
     "metadata": {},
     "output_type": "execute_result"
    }
   ],
   "source": [
    "unrated_movies = movies_df[~movies_df['movieId'].isin(ratings_df['movieId'].unique())]\n",
    "print(f\"# unrated movies: {unrated_movies.shape[0]}\")\n",
    "unrated_movies.head()"
   ]
  },
  {
   "cell_type": "code",
   "execution_count": 13,
   "metadata": {
    "id": "tdNcEfKaKN5F"
   },
   "outputs": [
    {
     "name": "stdout",
     "output_type": "stream",
     "text": [
      "# most rated movies(i.e rating >= 3.0) : 81763\n"
     ]
    }
   ],
   "source": [
    "#most of the movies are 3 and above rated\n",
    "most_rated_movie_count = movie_ratings_df['rating'].value_counts().sort_values(ascending=False)[movie_ratings_df['rating']\\\n",
    ".value_counts().keys() >= 3.0].sum()\n",
    "print(f\"# most rated movies(i.e rating >= 3.0) : {most_rated_movie_count}\")"
   ]
  },
  {
   "cell_type": "code",
   "execution_count": 14,
   "metadata": {
    "id": "_oN6O0n9KRc8"
   },
   "outputs": [
    {
     "data": {
      "text/plain": [
       "title\n",
       "Crippled Avengers (Can que) (Return of the 5 Deadly Venoms) (1981)    5.0\n",
       "Tokyo Tribe (2014)                                                    5.0\n",
       "Colourful (Karafuru) (2010)                                           5.0\n",
       "7 Faces of Dr. Lao (1964)                                             5.0\n",
       "My Sassy Girl (Yeopgijeogin geunyeo) (2001)                           5.0\n",
       "Name: rating, dtype: float64"
      ]
     },
     "execution_count": 14,
     "metadata": {},
     "output_type": "execute_result"
    }
   ],
   "source": [
    "# top 5 mean rating for movies\n",
    "movies_grouped_by_title = movie_ratings_df.groupby('title', sort=False)['rating']\n",
    "movies_grouped_by_title.mean().sort_values(ascending=False).head()"
   ]
  },
  {
   "cell_type": "code",
   "execution_count": 15,
   "metadata": {
    "id": "xbSYux5YKUUI"
   },
   "outputs": [
    {
     "data": {
      "text/plain": [
       "title\n",
       "Forrest Gump (1994)                 329\n",
       "Shawshank Redemption, The (1994)    317\n",
       "Pulp Fiction (1994)                 307\n",
       "Silence of the Lambs, The (1991)    279\n",
       "Matrix, The (1999)                  278\n",
       "Name: rating, dtype: int64"
      ]
     },
     "execution_count": 15,
     "metadata": {},
     "output_type": "execute_result"
    }
   ],
   "source": [
    "# highly rated movies\n",
    "rating_count = movies_grouped_by_title.count().sort_values(ascending=False)\n",
    "rating_count.head()"
   ]
  },
  {
   "cell_type": "code",
   "execution_count": 16,
   "metadata": {
    "id": "Bo1G868HKg5x"
   },
   "outputs": [
    {
     "name": "stdout",
     "output_type": "stream",
     "text": [
      "min # of movies were rated by a user: 20\n",
      "max # of movies were rated by a user: 2698\n"
     ]
    }
   ],
   "source": [
    "#each user rated a minimum and a maximum of 20 movies and 2698 movies respectively\n",
    "user_rating_count = movie_ratings_df.groupby(\"userId\", sort=False)['title'].count().sort_values(ascending=False)\n",
    "print(f\"min # of movies were rated by a user: {user_rating_count.min()}\")\n",
    "print(f\"max # of movies were rated by a user: {user_rating_count.max()}\")"
   ]
  },
  {
   "cell_type": "code",
   "execution_count": 17,
   "metadata": {
    "id": "QW4goi9ZKjHo"
   },
   "outputs": [
    {
     "data": {
      "text/plain": [
       "title\n",
       "Forrest Gump (1994)                 329\n",
       "Shawshank Redemption, The (1994)    317\n",
       "Pulp Fiction (1994)                 307\n",
       "Silence of the Lambs, The (1991)    279\n",
       "Matrix, The (1999)                  278\n",
       "                                   ... \n",
       "Meet Joe Black (1998)                20\n",
       "Gone Baby Gone (2007)                20\n",
       "Behind Enemy Lines (2001)            20\n",
       "Solaris (2002)                       20\n",
       "Real Genius (1985)                   20\n",
       "Name: rating, Length: 1297, dtype: int64"
      ]
     },
     "execution_count": 17,
     "metadata": {},
     "output_type": "execute_result"
    }
   ],
   "source": [
    "#movies with more tha 20 ratings\n",
    "rating_count[rating_count >= 20]"
   ]
  },
  {
   "cell_type": "code",
   "execution_count": 18,
   "metadata": {
    "id": "qb-URGRYKliX"
   },
   "outputs": [
    {
     "data": {
      "text/html": [
       "<div>\n",
       "<style scoped>\n",
       "    .dataframe tbody tr th:only-of-type {\n",
       "        vertical-align: middle;\n",
       "    }\n",
       "\n",
       "    .dataframe tbody tr th {\n",
       "        vertical-align: top;\n",
       "    }\n",
       "\n",
       "    .dataframe thead th {\n",
       "        text-align: right;\n",
       "    }\n",
       "</style>\n",
       "<table border=\"1\" class=\"dataframe\">\n",
       "  <thead>\n",
       "    <tr style=\"text-align: right;\">\n",
       "      <th></th>\n",
       "      <th>userId</th>\n",
       "      <th>movieId</th>\n",
       "      <th>rating</th>\n",
       "      <th>title</th>\n",
       "      <th>genres</th>\n",
       "    </tr>\n",
       "  </thead>\n",
       "  <tbody>\n",
       "    <tr>\n",
       "      <th>0</th>\n",
       "      <td>1</td>\n",
       "      <td>1</td>\n",
       "      <td>4.0</td>\n",
       "      <td>Toy Story (1995)</td>\n",
       "      <td>Adventure|Animation|Children|Comedy|Fantasy</td>\n",
       "    </tr>\n",
       "    <tr>\n",
       "      <th>1</th>\n",
       "      <td>1</td>\n",
       "      <td>3</td>\n",
       "      <td>4.0</td>\n",
       "      <td>Grumpier Old Men (1995)</td>\n",
       "      <td>Comedy|Romance</td>\n",
       "    </tr>\n",
       "    <tr>\n",
       "      <th>2</th>\n",
       "      <td>1</td>\n",
       "      <td>6</td>\n",
       "      <td>4.0</td>\n",
       "      <td>Heat (1995)</td>\n",
       "      <td>Action|Crime|Thriller</td>\n",
       "    </tr>\n",
       "    <tr>\n",
       "      <th>3</th>\n",
       "      <td>1</td>\n",
       "      <td>47</td>\n",
       "      <td>5.0</td>\n",
       "      <td>Seven (a.k.a. Se7en) (1995)</td>\n",
       "      <td>Mystery|Thriller</td>\n",
       "    </tr>\n",
       "    <tr>\n",
       "      <th>4</th>\n",
       "      <td>1</td>\n",
       "      <td>50</td>\n",
       "      <td>5.0</td>\n",
       "      <td>Usual Suspects, The (1995)</td>\n",
       "      <td>Crime|Mystery|Thriller</td>\n",
       "    </tr>\n",
       "  </tbody>\n",
       "</table>\n",
       "</div>"
      ],
      "text/plain": [
       "   userId  movieId  rating                        title  \\\n",
       "0       1        1     4.0             Toy Story (1995)   \n",
       "1       1        3     4.0      Grumpier Old Men (1995)   \n",
       "2       1        6     4.0                  Heat (1995)   \n",
       "3       1       47     5.0  Seven (a.k.a. Se7en) (1995)   \n",
       "4       1       50     5.0   Usual Suspects, The (1995)   \n",
       "\n",
       "                                        genres  \n",
       "0  Adventure|Animation|Children|Comedy|Fantasy  \n",
       "1                               Comedy|Romance  \n",
       "2                        Action|Crime|Thriller  \n",
       "3                             Mystery|Thriller  \n",
       "4                       Crime|Mystery|Thriller  "
      ]
     },
     "execution_count": 18,
     "metadata": {},
     "output_type": "execute_result"
    }
   ],
   "source": [
    "movie_ratings_df.head()"
   ]
  },
  {
   "cell_type": "code",
   "execution_count": 19,
   "metadata": {
    "id": "Mg8f0XHBKoeF"
   },
   "outputs": [
    {
     "data": {
      "image/png": "[encoded data removed]",
      "text/plain": [
       "<Figure size 800x500 with 1 Axes>"
      ]
     },
     "metadata": {},
     "output_type": "display_data"
    }
   ],
   "source": [
    "# The plot indicate some users rate many movies\n",
    "plt.figure(figsize=(8, 5))\n",
    "plt.hist(movie_ratings_df['userId'], bins=22, density=True)\n",
    "plt.xlabel('Users(ID)')\n",
    "plt.ylabel('Density of Interaction')\n",
    "plt.title(f'The number of movie each user interacted with')\n",
    "plt.gca().spines[['top', 'right',]].set_visible(False)\n",
    "plt.show()"
   ]
  },
  {
   "cell_type": "code",
   "execution_count": 20,
   "metadata": {
    "id": "NBHr8xA2KsBT"
   },
   "outputs": [
    {
     "data": {
      "image/png": "[encoded data removed]",
      "text/plain": [
       "<Figure size 800x500 with 1 Axes>"
      ]
     },
     "metadata": {},
     "output_type": "display_data"
    }
   ],
   "source": [
    "# This is the equivalent of the previous; some movies have been rated by many users\n",
    "plt.figure(figsize=(8, 5))\n",
    "plt.hist(movie_ratings_df['movieId'])\n",
    "plt.xlabel('Movies(ID)')\n",
    "plt.ylabel('# Interaction')\n",
    "plt.title(f'The number of interaction of each movie')\n",
    "plt.gca().spines[['top', 'right',]].set_visible(False)\n",
    "plt.show()"
   ]
  },
  {
   "cell_type": "code",
   "execution_count": 21,
   "metadata": {
    "id": "fPNuhBioKubh"
   },
   "outputs": [
    {
     "data": {
      "image/png": "[encoded data removed]",
      "text/plain": [
       "<Figure size 800x600 with 1 Axes>"
      ]
     },
     "metadata": {},
     "output_type": "display_data"
    }
   ],
   "source": [
    "# This plot shows that the majority of the ratings are 4 and the minority is 0.5\n",
    "plt.figure(figsize=(8, 6))\n",
    "plt.pie(ratings_df['rating'].value_counts(), labels=ratings_df['rating'].value_counts().index, autopct=\"%1.2f%%\")\n",
    "plt.title('Rating Distribution')\n",
    "plt.gca().spines[['top', 'right',]].set_visible(False)\n",
    "plt.show()"
   ]
  },
  {
   "cell_type": "markdown",
   "metadata": {
    "id": "-jU-Scuj7H4D"
   },
   "source": [
    "**Algorithm: The Iterative BiRank Algorithm**\n",
    "\n",
    "\n",
    "\n",
    "**Input:** Weight matrix \\( W \\), query vectors \\( p<sub>0</sub> \\), \\(u<sub>0</sub>), and hyper-parameters \\(&alpha;, &beta; \\)  \n",
    "**Output:** Ranking vectors \\( **p**, **u** \\)  \n",
    "\n",
    "1.  Symmetrically normalize \\( W \\):\n",
    "  \\[\n",
    "   S = D<sub>u</sub><sup>-1/2</sup> W D<sub>p</sub><sup>-1/2</sup>\n",
    "   \\]\n",
    "2.   Randomly initialize \\( **p** \\) and \\( **u** \\)\n",
    "3. **while** Stopping criteria is not met **do**  \n",
    "   \\[\n",
    "   p &larr; &alpha; S<sup>T</sup> u + (1 - &alpha;) p<sub>0</sub>\n",
    "   \\];  \n",
    "   \\[\n",
    "   u &larr; &beta; S p + (1 - &beta;) u<sup>0</sup>\n",
    "   \\];\n",
    "4. **end**\n",
    "5. **return** \\( ***p*** \\) and \\( ***u*** \\)\n",
    "\n",
    "\n",
    "![Screenshot from 2024-12-12 15-52-16.png](data:image/png;base64,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)\n",
    "\n",
    "Reference:\n",
    "\n",
    "He, X., Gao, M., Kan, M.-Y., & Wang, D. (2017). BiRank: Towards Ranking on Bipartite Graphs (No. arXiv:1708.04396). arXiv. https://doi.org/10.48550/arXiv.1708.04396\n"
   ]
  },
  {
   "cell_type": "code",
   "execution_count": 22,
   "metadata": {
    "id": "3X9TdkIb5665"
   },
   "outputs": [],
   "source": [
    "def birank(W, U0, P0, alpha=0.85, beta=0.85, max_iter=100, tol=1e-6, verbose=False):\n",
    "    \"\"\"\n",
    "    A BiRank algorithm implementation for bipartite graph ranking.\n",
    "\n",
    "    Args:\n",
    "      W (coo_matrix) : Weight matrix for users and items (n_users x n_items).\n",
    "      U0 (dia_matrix): Query matrix for users (n_users x n_users).\n",
    "      P0 (coo_matrix): Query matrix for items (n_users x n_items).\n",
    "      alpha, beta: hyper-parameters (Damping factors)\n",
    "      max_iter: Maximum number of iterations\n",
    "      tol: Tolerance for convergence\n",
    "      verbose: If True, print the iteration information\n",
    "\n",
    "    Returns:\n",
    "      U (csr_matrix): Ranking matrix of users (n_users x n_users).\n",
    "      P (csr_matrix): Ranking matrix of items for each user (n_users x n_items).\n",
    "    \"\"\"\n",
    "    # convert Weight matrix into float type (ratings)\n",
    "    W = W.astype('float', copy=False)\n",
    "\n",
    "    # Compute the row-sum and col-sum of weight maxtrix\n",
    "    du = W.sum(axis=1).A1\n",
    "    dp = W.sum(axis=0).A1\n",
    "\n",
    "    # avoid division by zero\n",
    "    du[np.where(du == 0)] += 1e-10\n",
    "    dp[np.where(dp == 0)] += 1e-10\n",
    "\n",
    "    # inverse square root of the row-sum and col-sum and form diagonal matrix\n",
    "    du_inv_sqrt = spa.diags(1 / np.sqrt(du))\n",
    "    dp_inv_sqrt = spa.diags(1 / np.sqrt(dp))\n",
    "\n",
    "    #Symmetrically normalized weight matrix and convert it into csr for efficient matrix multiplication for update rule\n",
    "    S = du_inv_sqrt.dot(W).dot(dp_inv_sqrt)\n",
    "    S = S.tocsr()\n",
    "    St = S.T\n",
    "\n",
    "    #initalize the user and item as query matrices\n",
    "    U_last = U0.copy()\n",
    "    P_last = P0.copy()\n",
    "\n",
    "    for itr in range(max_iter):\n",
    "        # update rules for items and users\n",
    "        P = alpha * (St.dot(U_last)).T + (1 - alpha) * P0\n",
    "        U = beta * (S.dot(P_last.T)) + (1 - beta) * U0\n",
    "\n",
    "        # compute the frobinus norm to get the errors from the previous\n",
    "        p_error = la.norm((P - P_last).toarray(), ord=\"fro\")\n",
    "        u_error = la.norm((U - U_last).toarray(), ord=\"fro\")\n",
    "\n",
    "        if verbose:\n",
    "            print(f\"Iteration: {itr}, Item Rank Error: {p_error}, User Rank Error: {u_error}\")\n",
    "\n",
    "        if p_error < tol and u_error < tol:\n",
    "            print(f\"converges after {itr} iterations\")\n",
    "            break\n",
    "        P_last = P\n",
    "        U_last = U\n",
    "\n",
    "    return U, P"
   ]
  },
  {
   "cell_type": "code",
   "execution_count": 23,
   "metadata": {
    "id": "8MNnS1YpbHj_"
   },
   "outputs": [],
   "source": [
    "def generate_birank(W, verbose=False):\n",
    "  \"\"\"\n",
    "    generate birank\n",
    "\n",
    "    Args:\n",
    "      W: A sparse matrix of users and movies (n_users x num_items)\n",
    "      U0: A sparse matrix of users and users (n_users x n_users)\n",
    "      P0: A sparse matrix of user and items (n_users x num_items)\n",
    "\n",
    "    Returns:\n",
    "      U: A sparse matrix of users and users (n_users x n_users)\n",
    "      P: A sparse matrix of users and items (n_users x num_items)\n",
    "  \"\"\"\n",
    "\n",
    "  U0 = spa.eye(W.shape[0])\n",
    "  P0 = W.copy().tocsr()\n",
    "  return birank(W, U0, P0, verbose=verbose)"
   ]
  },
  {
   "cell_type": "code",
   "execution_count": 24,
   "metadata": {
    "id": "3xy5ObwkOq64"
   },
   "outputs": [],
   "source": [
    "def generate_unique_index(data_df, user_col_name, item_col_name):\n",
    "  \"\"\"\n",
    "    create unique index for users and movies\n",
    "\n",
    "    Args:\n",
    "      data_df: A pandas dataframe of users, movies, and ratings\n",
    "      user_col_name: column name of the users\n",
    "      item_col_name: column name of the movies\n",
    "\n",
    "    Returns:\n",
    "      data_df: A pandas dataframe of users, movies, and ratings with indexes of users and movies\n",
    "  \"\"\"\n",
    "\n",
    "  user_idx = pd.DataFrame(data_df[user_col_name].unique(), columns=[user_col_name]).reset_index()\n",
    "  user_idx = user_idx.rename(columns={'index': 'user_index'})\n",
    "\n",
    "  item_idx = pd.DataFrame(data_df[item_col_name].unique(), columns=[item_col_name]).reset_index()\n",
    "  item_idx = item_idx.rename(columns={'index': 'item_index'})\n",
    "\n",
    "  #merge the indexes of the users and items\n",
    "  data_df = data_df.merge(user_idx, on=user_col_name)\n",
    "  data_df = data_df.merge(item_idx, on=item_col_name)\n",
    "\n",
    "  return data_df"
   ]
  },
  {
   "cell_type": "code",
   "execution_count": 25,
   "metadata": {
    "id": "_64nCvUoTy0m"
   },
   "outputs": [],
   "source": [
    "def create_adj_matrix(data_df, user_index_col, item_index_col, weight_col_name):\n",
    "  \"\"\"\n",
    "    create adjacency matrix\n",
    "\n",
    "    Args:\n",
    "      data_df: A pandas dataframe of users, movies, and ratings\n",
    "      user_col_name: column name of the users\n",
    "      item_col_name: column name of the movies\n",
    "      weight_col_name: column name of the ratings\n",
    "\n",
    "    Returns:\n",
    "      Weight: A sparse matrix of users and movies\n",
    "  \"\"\"\n",
    "\n",
    "  Weight = spa.coo_matrix((data_df[weight_col_name],\n",
    "            (data_df[user_index_col].values, data_df[item_index_col].values))\n",
    "   )\n",
    "\n",
    "  return Weight"
   ]
  },
  {
   "cell_type": "code",
   "execution_count": null,
   "metadata": {
    "colab": {
     "base_uri": "https://localhost:8080/",
     "height": 236
    },
    "id": "cjPzADGIY5ra",
    "outputId": "c566a425-8350-4f58-ff75-420eb9a4f905"
   },
   "outputs": [
    {
     "name": "stdout",
     "output_type": "stream",
     "text": [
      "Iteration: 0, Item Rank Error: 878.1547095869569, User Rank Error: 419.9633393763384\n",
      "Iteration: 1, Item Rank Error: 304.80502343140205, User Rank Error: 362.1882851764847\n",
      "Iteration: 2, Item Rank Error: 259.7298415732528, User Rank Error: 248.29861199817537\n",
      "Iteration: 3, Item Rank Error: 208.16198067568456, User Rank Error: 211.16974957103164\n",
      "Iteration: 4, Item Rank Error: 176.96689572013736, User Rank Error: 176.00653366475507\n",
      "Iteration: 5, Item Rank Error: 149.26907455275096, User Rank Error: 149.61484371058805\n",
      "Iteration: 6, Item Rank Error: 126.88213027312905, User Rank Error: 126.74779964327382\n",
      "Iteration: 7, Item Rank Error: 107.68208341421081, User Rank Error: 107.73700514389195\n",
      "Iteration: 8, Item Rank Error: 91.5303575364734, User Rank Error: 91.50706391926343\n",
      "Iteration: 9, Item Rank Error: 77.77110419827872, User Rank Error: 77.78126442823498\n",
      "Iteration: 10, Item Rank Error: 66.1055570797942, User Rank Error: 66.10102440929118\n",
      "Iteration: 11, Item Rank Error: 56.18386551959096, User Rank Error: 56.18592584102216\n",
      "Iteration: 12, Item Rank Error: 47.75631169669721, User Rank Error: 47.755360224923606\n",
      "Iteration: 13, Item Rank Error: 40.591623243982404, User Rank Error: 40.59206861261984\n",
      "Iteration: 14, Item Rank Error: 34.50288574644785, User Rank Error: 34.502674865134516\n",
      "Iteration: 15, Item Rank Error: 29.327175713759647, User Rank Error: 29.327276544703\n",
      "Iteration: 16, Item Rank Error: 24.928100778479433, User Rank Error: 24.928052168833883\n",
      "Iteration: 17, Item Rank Error: 21.18882144538484, User Rank Error: 21.188845041685603\n",
      "Iteration: 18, Item Rank Error: 18.010498572753423, User Rank Error: 18.01048705265028\n",
      "Iteration: 19, Item Rank Error: 15.308908513888012, User Rank Error: 15.308914164949606\n",
      "Iteration: 20, Item Rank Error: 13.012572321179565, User Rank Error: 13.01256953825984\n",
      "Iteration: 21, Item Rank Error: 11.06068277456179, User Rank Error: 11.06068414943408\n",
      "Iteration: 22, Item Rank Error: 9.401580379231802, User Rank Error: 9.401579698211354\n",
      "Iteration: 23, Item Rank Error: 7.991342415817731, User Rank Error: 7.991342753869432\n",
      "Iteration: 24, Item Rank Error: 6.792641058626769, User Rank Error: 6.792640890530702\n",
      "Iteration: 25, Item Rank Error: 5.773744675834484, User Rank Error: 5.77374475953758\n",
      "Iteration: 26, Item Rank Error: 4.907682975751254, User Rank Error: 4.907682934024129\n",
      "Iteration: 27, Item Rank Error: 4.171530473745524, User Rank Error: 4.171530494566166\n",
      "Iteration: 28, Item Rank Error: 3.545800903006508, User Rank Error: 3.545800892609897\n",
      "Iteration: 29, Item Rank Error: 3.0139307536853006, User Rank Error: 3.0139307588798645\n",
      "Iteration: 30, Item Rank Error: 2.5618411407132786, User Rank Error: 2.5618411381166095\n",
      "Iteration: 31, Item Rank Error: 2.1775649661410106, User Rank Error: 2.177564967439544\n",
      "Iteration: 32, Item Rank Error: 1.8509302212400958, User Rank Error: 1.850930220590525\n",
      "Iteration: 33, Item Rank Error: 1.5732906871870582, User Rank Error: 1.573290687512075\n",
      "Iteration: 34, Item Rank Error: 1.3372970841140697, User Rank Error: 1.3372970839514144\n",
      "Iteration: 35, Item Rank Error: 1.136702521279824, User Rank Error: 1.1367025213612434\n",
      "Iteration: 36, Item Rank Error: 0.9661971430891222, User Rank Error: 0.9661971430483736\n",
      "Iteration: 37, Item Rank Error: 0.8212675715713483, User Rank Error: 0.8212675715917522\n",
      "Iteration: 38, Item Rank Error: 0.6980774358359615, User Rank Error: 0.6980774358257419\n",
      "Iteration: 39, Item Rank Error: 0.5933658204469229, User Rank Error: 0.5933658204520432\n",
      "Iteration: 40, Item Rank Error: 0.5043609473799682, User Rank Error: 0.5043609473774044\n",
      "Iteration: 41, Item Rank Error: 0.4287068052695513, User Rank Error: 0.42870680527083455\n",
      "Iteration: 42, Item Rank Error: 0.364400784479139, User Rank Error: 0.3644007844784948\n",
      "Iteration: 43, Item Rank Error: 0.3097406668064094, User Rank Error: 0.3097406668067288\n",
      "Iteration: 44, Item Rank Error: 0.26327956678545195, User Rank Error: 0.26327956678529474\n",
      "Iteration: 45, Item Rank Error: 0.2237876317674229, User Rank Error: 0.2237876317675002\n"
     ]
    }
   ],
   "source": [
    "#set user, item, weight col names\n",
    "user_col = 'userId'\n",
    "item_col = 'movieId'\n",
    "weight_col = 'rating'\n",
    "\n",
    "#set user and item index col names\n",
    "item_index_col = 'item_index'\n",
    "user_index_col = 'user_index'\n",
    "\n",
    "# split the data into train and test\n",
    "train_df, test_df = train_test_split(movie_ratings_df, test_size=0.2, random_state=42)\n",
    "\n",
    "# generate unique indexes for users and movies(items)\n",
    "movie_ratings_df = generate_unique_index(train_df, user_col, item_col)\n",
    "W = create_adj_matrix(train_df, user_index_col, item_index_col, weight_col)\n",
    "\n",
    "# Generate BiRank scores\n",
    "U, P = generate_birank(W, verbose=True)"
   ]
  },
  {
   "cell_type": "code",
   "execution_count": 29,
   "metadata": {
    "id": "BdYb45rQbTam"
   },
   "outputs": [
    {
     "data": {
      "text/plain": [
       "((610, 610), (610, 9724))"
      ]
     },
     "execution_count": 29,
     "metadata": {},
     "output_type": "execute_result"
    }
   ],
   "source": [
    "U.shape, P.shape"
   ]
  },
  {
   "cell_type": "code",
   "execution_count": null,
   "metadata": {},
   "outputs": [],
   "source": [
    "def generate_recommendation(df, U_last, P_last):\n",
    "    n_users = U_last.shape[0]\n",
    "    for i in range(n_users):\n",
    "        \n",
    "    "
   ]
  }
 ],
 "metadata": {
  "colab": {
   "provenance": []
  },
  "kernelspec": {
   "display_name": "Python 3 (ipykernel)",
   "language": "python",
   "name": "python3"
  },
  "language_info": {
   "codemirror_mode": {
    "name": "ipython",
    "version": 3
   },
   "file_extension": ".py",
   "mimetype": "text/x-python",
   "name": "python",
   "nbconvert_exporter": "python",
   "pygments_lexer": "ipython3",
   "version": "3.12.3"
  }
 },
 "nbformat": 4,
 "nbformat_minor": 4
}
